{
 "cells": [
  {
   "cell_type": "code",
   "execution_count": 1,
   "metadata": {},
   "outputs": [],
   "source": [
    "import numpy as np\n",
    "import torch\n",
    "import random\n",
    "import copy\n",
    "import matplotlib.pyplot as plt"
   ]
  },
  {
   "cell_type": "code",
   "execution_count": 2,
   "metadata": {},
   "outputs": [],
   "source": [
    "from load_data import *"
   ]
  },
  {
   "cell_type": "code",
   "execution_count": 3,
   "metadata": {},
   "outputs": [
    {
     "name": "stdout",
     "output_type": "stream",
     "text": [
      "\n",
      "Number of people recidivating within two years\n",
      "0    2795\n",
      "1    2483\n",
      "dtype: int64\n",
      "\n",
      "\n"
     ]
    }
   ],
   "source": [
    "X_tr, X_te, y_tr, y_te, xs_tr, xs_te = load_compas_data(svm=False,random_state=42)"
   ]
  },
  {
   "cell_type": "code",
   "execution_count": 4,
   "metadata": {},
   "outputs": [],
   "source": [
    "def poison_Z(xs,pos_rt = 0.1, rs = 3):\n",
    "    n_pos = int(len(xs)*pos_rt)\n",
    "    random.seed(rs)\n",
    "    r_idxs = list(range(len(xs)))\n",
    "    random.shuffle(r_idxs)\n",
    "    xsp = copy.deepcopy(xs)\n",
    "    xsp[r_idxs[:n_pos]] = 1-xs_tr[r_idxs[:n_pos]]\n",
    "    return xsp"
   ]
  },
  {
   "cell_type": "code",
   "execution_count": 5,
   "metadata": {},
   "outputs": [],
   "source": [
    "from fairNN_train import *"
   ]
  },
  {
   "cell_type": "code",
   "execution_count": 6,
   "metadata": {},
   "outputs": [],
   "source": [
    "xs_tep =  poison_Z(xs_te,pos_rt = 0.1, rs = 3)"
   ]
  },
  {
   "cell_type": "code",
   "execution_count": 7,
   "metadata": {},
   "outputs": [],
   "source": [
    "train_loader, test_loader = make_dataloaders(X_tr, X_te, y_tr, y_te, xs_tr, xs_te)\n",
    "# _, testp_loader = make_dataloaders(X_tr, X_te, y_tr, y_te, xs_tr, xs_tep)"
   ]
  },
  {
   "cell_type": "code",
   "execution_count": 8,
   "metadata": {},
   "outputs": [],
   "source": [
    "n_features = train_loader.dataset.tensors[0].shape[1]\n",
    "clf = Classifier(n_features=n_features)\n",
    "clf_criterion = nn.BCELoss()\n",
    "clf_optimizer = optim.Adam(clf.parameters())"
   ]
  },
  {
   "cell_type": "code",
   "execution_count": 9,
   "metadata": {
    "scrolled": true
   },
   "outputs": [
    {
     "name": "stderr",
     "output_type": "stream",
     "text": [
      "/home/srp/.pyenv/versions/pytorch15/lib/python3.8/site-packages/torch/nn/functional.py:1569: UserWarning: nn.functional.sigmoid is deprecated. Use torch.sigmoid instead.\n",
      "  warnings.warn(\"nn.functional.sigmoid is deprecated. Use torch.sigmoid instead.\")\n"
     ]
    },
    {
     "data": {
      "text/plain": [
       "Classifier(\n",
       "  (network): Sequential(\n",
       "    (0): Linear(in_features=7, out_features=32, bias=True)\n",
       "    (1): ReLU()\n",
       "    (2): Dropout(p=0.2, inplace=False)\n",
       "    (3): Linear(in_features=32, out_features=32, bias=True)\n",
       "    (4): ReLU()\n",
       "    (5): Dropout(p=0.2, inplace=False)\n",
       "    (6): Linear(in_features=32, out_features=32, bias=True)\n",
       "    (7): ReLU()\n",
       "    (8): Dropout(p=0.2, inplace=False)\n",
       "    (9): Linear(in_features=32, out_features=1, bias=True)\n",
       "  )\n",
       ")"
      ]
     },
     "execution_count": 9,
     "metadata": {},
     "output_type": "execute_result"
    }
   ],
   "source": [
    "pretrain_NN(clf,train_loader,clf_criterion,clf_optimizer, n_epoch = 5)"
   ]
  },
  {
   "cell_type": "code",
   "execution_count": 10,
   "metadata": {},
   "outputs": [
    {
     "name": "stderr",
     "output_type": "stream",
     "text": [
      "/home/srp/.pyenv/versions/pytorch15/lib/python3.8/site-packages/torch/nn/_reduction.py:43: UserWarning: size_average and reduce args will be deprecated, please use reduction='none' instead.\n",
      "  warnings.warn(warning.format(ret))\n"
     ]
    }
   ],
   "source": [
    "lambdas = torch.Tensor([30])\n",
    "adv = Adversary(xs_tr.shape[1])\n",
    "adv_criterion = nn.BCELoss(reduce=False)\n",
    "adv_optimizer = optim.Adam(adv.parameters())"
   ]
  },
  {
   "cell_type": "code",
   "execution_count": 11,
   "metadata": {},
   "outputs": [
    {
     "data": {
      "text/plain": [
       "Adversary(\n",
       "  (network): Sequential(\n",
       "    (0): Linear(in_features=1, out_features=32, bias=True)\n",
       "    (1): ReLU()\n",
       "    (2): Linear(in_features=32, out_features=32, bias=True)\n",
       "    (3): ReLU()\n",
       "    (4): Linear(in_features=32, out_features=32, bias=True)\n",
       "    (5): ReLU()\n",
       "    (6): Linear(in_features=32, out_features=1, bias=True)\n",
       "  )\n",
       ")"
      ]
     },
     "execution_count": 11,
     "metadata": {},
     "output_type": "execute_result"
    }
   ],
   "source": [
    "pretrain_adv(clf,adv,train_loader,adv_criterion,adv_optimizer,lambdas, n_epoch = 5)"
   ]
  },
  {
   "cell_type": "code",
   "execution_count": 12,
   "metadata": {
    "scrolled": true
   },
   "outputs": [
    {
     "name": "stderr",
     "output_type": "stream",
     "text": [
      "/home/srp/.pyenv/versions/pytorch15/lib/python3.8/site-packages/torch/nn/modules/loss.py:516: UserWarning: Using a target size (torch.Size([32])) that is different to the input size (torch.Size([32, 1])) is deprecated. Please ensure they have the same size.\n",
      "  return F.binary_cross_entropy(input, target, weight=self.weight, reduction=self.reduction)\n"
     ]
    },
    {
     "name": "stdout",
     "output_type": "stream",
     "text": [
      "====================\n",
      "test for epoch: 1\n",
      "====================\n",
      "Overall accuracy: 0.6300505050505051\n",
      "disparate impact:  30.92316488542903\n",
      "disparate misclassification rate:  58.156130096460714\n",
      "disparate false positive rate: 32.58461932743881\n",
      "disparate false negative rate: 53.04154454715009\n",
      "equalized opportunity for 0.0 : 32.58461932743881\n",
      "equalized opportunity for 1.0 : 34.97516673761884\n",
      "loss function:  bce_loss\n",
      "loss value for group 0: 0.6459747552871704\n",
      "loss value for group 1: 0.6260395050048828\n",
      "====================\n",
      "test for epoch: 2\n",
      "====================\n",
      "Overall accuracy: 0.6231060606060606\n",
      "disparate impact:  31.22694213133762\n",
      "disparate misclassification rate:  61.54409457056177\n",
      "disparate false positive rate: 30.3298800436205\n",
      "disparate false negative rate: 62.705584673775526\n",
      "equalized opportunity for 0.0 : 30.3298800436205\n",
      "equalized opportunity for 1.0 : 37.86510087323095\n",
      "loss function:  bce_loss\n",
      "loss value for group 0: 0.659345269203186\n",
      "loss value for group 1: 0.6340702176094055\n",
      "====================\n",
      "test for epoch: 3\n",
      "====================\n",
      "Overall accuracy: 0.6117424242424242\n",
      "disparate impact:  34.67636268343816\n",
      "disparate misclassification rate:  65.98879435567547\n",
      "disparate false positive rate: 35.96766951055231\n",
      "disparate false negative rate: 71.394294332527\n",
      "equalized opportunity for 0.0 : 35.96766951055231\n",
      "equalized opportunity for 1.0 : 40.78736645786454\n",
      "loss function:  bce_loss\n",
      "loss value for group 0: 0.6712580919265747\n",
      "loss value for group 1: 0.6356342434883118\n",
      "====================\n",
      "test for epoch: 4\n",
      "====================\n",
      "Overall accuracy: 0.6035353535353535\n",
      "disparate impact:  31.49083178315174\n",
      "disparate misclassification rate:  69.57996172313065\n",
      "disparate false positive rate: 33.5500895297333\n",
      "disparate false negative rate: 77.65741996618421\n",
      "equalized opportunity for 0.0 : 33.5500895297333\n",
      "equalized opportunity for 1.0 : 37.753966405259206\n",
      "loss function:  bce_loss\n",
      "loss value for group 0: 0.6821004748344421\n",
      "loss value for group 1: 0.6316127777099609\n",
      "====================\n",
      "test for epoch: 5\n",
      "====================\n",
      "Overall accuracy: 0.5871212121212122\n",
      "disparate impact:  30.810582902919787\n",
      "disparate misclassification rate:  70.27487391870679\n",
      "disparate false positive rate: 33.02586938083121\n",
      "disparate false negative rate: 81.68805349719864\n",
      "equalized opportunity for 0.0 : 33.02586938083121\n",
      "equalized opportunity for 1.0 : 36.342788929727014\n",
      "loss function:  bce_loss\n",
      "loss value for group 0: 0.7011977434158325\n",
      "loss value for group 1: 0.6437610387802124\n",
      "====================\n",
      "test for epoch: 6\n",
      "====================\n",
      "Overall accuracy: 0.5915404040404041\n",
      "disparate impact:  46.514117489629335\n",
      "disparate misclassification rate:  73.63815503824188\n",
      "disparate false positive rate: 54.66350794068614\n",
      "disparate false negative rate: 88.68199255173187\n",
      "equalized opportunity for 0.0 : 54.66350794068614\n",
      "equalized opportunity for 1.0 : 55.4453262786596\n",
      "loss function:  bce_loss\n",
      "loss value for group 0: 0.7024310827255249\n",
      "loss value for group 1: 0.6420965790748596\n",
      "====================\n",
      "test for epoch: 7\n",
      "====================\n",
      "Overall accuracy: 0.5852272727272727\n",
      "disparate impact:  47.07050645481628\n",
      "disparate misclassification rate:  73.63815503824188\n",
      "disparate false positive rate: 54.66350794068614\n",
      "disparate false negative rate: 89.65463035739054\n",
      "equalized opportunity for 0.0 : 54.66350794068614\n",
      "equalized opportunity for 1.0 : 55.729661285216835\n",
      "loss function:  bce_loss\n",
      "loss value for group 0: 0.725228488445282\n",
      "loss value for group 1: 0.6343346834182739\n",
      "====================\n",
      "test for epoch: 8\n",
      "====================\n",
      "Overall accuracy: 0.5707070707070707\n",
      "disparate impact:  38.75471698113207\n",
      "disparate misclassification rate:  74.44558284033447\n",
      "disparate false positive rate: 56.61577608142494\n",
      "disparate false negative rate: 90.02285844404936\n",
      "equalized opportunity for 0.0 : 56.61577608142494\n",
      "equalized opportunity for 1.0 : 41.39917695473251\n",
      "loss function:  bce_loss\n",
      "loss value for group 0: 0.7271169424057007\n",
      "loss value for group 1: 0.645419716835022\n",
      "====================\n",
      "test for epoch: 9\n",
      "====================\n",
      "Overall accuracy: 0.5688131313131313\n",
      "disparate impact:  68.79535558780843\n",
      "disparate misclassification rate:  75.43031277208493\n",
      "disparate false positive rate: 84.92366412213741\n",
      "disparate false negative rate: 96.62027833001989\n",
      "equalized opportunity for 0.0 : 84.92366412213741\n",
      "equalized opportunity for 1.0 : 78.71674491392801\n",
      "loss function:  bce_loss\n",
      "loss value for group 0: 0.7429715394973755\n",
      "loss value for group 1: 0.6374308466911316\n",
      "====================\n",
      "test for epoch: 10\n",
      "====================\n",
      "Overall accuracy: 0.5782828282828283\n",
      "disparate impact:  92.27313566936208\n",
      "disparate misclassification rate:  76.11636217895193\n",
      "disparate false positive rate: 94.62279293739968\n",
      "disparate false negative rate: 97.77455386774383\n",
      "equalized opportunity for 0.0 : 94.62279293739968\n",
      "equalized opportunity for 1.0 : 87.72104216804436\n",
      "loss function:  bce_loss\n",
      "loss value for group 0: 0.7470808625221252\n",
      "loss value for group 1: 0.6309229731559753\n",
      "====================\n",
      "test for epoch: 11\n",
      "====================\n",
      "Overall accuracy: 0.5675505050505051\n",
      "disparate impact:  94.15944925605152\n",
      "disparate misclassification rate:  77.96784125898051\n",
      "disparate false positive rate: 57.59648265754763\n",
      "disparate false negative rate: 98.7720089445102\n",
      "equalized opportunity for 0.0 : 57.59648265754763\n",
      "equalized opportunity for 1.0 : 92.35761899193078\n",
      "loss function:  bce_loss\n",
      "loss value for group 0: 0.7520548701286316\n",
      "loss value for group 1: 0.6335521340370178\n",
      "====================\n",
      "test for epoch: 12\n",
      "====================\n",
      "Overall accuracy: 0.5650252525252525\n",
      "disparate impact:  95.84086799276673\n",
      "disparate misclassification rate:  77.67210451499356\n",
      "disparate false positive rate: 55.777646363098754\n",
      "disparate false negative rate: 99.07892911638231\n",
      "equalized opportunity for 0.0 : 55.777646363098754\n",
      "equalized opportunity for 1.0 : 93.39960238568588\n",
      "loss function:  bce_loss\n",
      "loss value for group 0: 0.7545450329780579\n",
      "loss value for group 1: 0.6407022476196289\n",
      "====================\n",
      "test for epoch: 13\n",
      "====================\n",
      "Overall accuracy: 0.5587121212121212\n",
      "disparate impact:  68.3084004602992\n",
      "disparate misclassification rate:  79.45181983465403\n",
      "disparate false positive rate: 29.438202247191015\n",
      "disparate false negative rate: 96.44643422421201\n",
      "equalized opportunity for 0.0 : 29.438202247191015\n",
      "equalized opportunity for 1.0 : 74.802796126467\n",
      "loss function:  bce_loss\n",
      "loss value for group 0: 0.7586910724639893\n",
      "loss value for group 1: 0.6384628415107727\n",
      "====================\n",
      "test for epoch: 14\n",
      "====================\n",
      "Overall accuracy: 0.5631313131313131\n",
      "disparate impact:  57.50452079566004\n",
      "disparate misclassification rate:  79.1535887972959\n",
      "disparate false positive rate: 40.76058772687986\n",
      "disparate false negative rate: 90.53226608782164\n",
      "equalized opportunity for 0.0 : 40.76058772687986\n",
      "equalized opportunity for 1.0 : 52.70196999819265\n",
      "loss function:  bce_loss\n",
      "loss value for group 0: 0.7654858827590942\n",
      "loss value for group 1: 0.6320154070854187\n",
      "====================\n",
      "test for epoch: 15\n",
      "====================\n",
      "Overall accuracy: 0.5656565656565656\n",
      "disparate impact:  59.73643142014912\n",
      "disparate misclassification rate:  79.99026290165531\n",
      "disparate false positive rate: 33.49864393645874\n",
      "disparate false negative rate: 91.74205138075469\n",
      "equalized opportunity for 0.0 : 33.49864393645874\n",
      "equalized opportunity for 1.0 : 59.28971624796674\n",
      "loss function:  bce_loss\n",
      "loss value for group 0: 0.7682613730430603\n",
      "loss value for group 1: 0.636320948600769\n",
      "====================\n",
      "test for epoch: 16\n",
      "====================\n",
      "Overall accuracy: 0.5656565656565656\n",
      "disparate impact:  45.21188772702257\n",
      "disparate misclassification rate:  82.62890652935707\n",
      "disparate false positive rate: 20.38029386343993\n",
      "disparate false negative rate: 87.39826245999086\n",
      "equalized opportunity for 0.0 : 20.38029386343993\n",
      "equalized opportunity for 1.0 : 48.31013916500994\n",
      "loss function:  bce_loss\n",
      "loss value for group 0: 0.7678484320640564\n",
      "loss value for group 1: 0.6289139986038208\n",
      "====================\n",
      "test for epoch: 17\n",
      "====================\n",
      "Overall accuracy: 0.5650252525252525\n",
      "disparate impact:  40.924050632911396\n",
      "disparate misclassification rate:  83.14400086551986\n",
      "disparate false positive rate: 21.02728731942215\n",
      "disparate false negative rate: 84.72176699806985\n",
      "equalized opportunity for 0.0 : 21.02728731942215\n",
      "equalized opportunity for 1.0 : 42.47960512785357\n",
      "loss function:  bce_loss\n",
      "loss value for group 0: 0.7436270117759705\n",
      "loss value for group 1: 0.6285515427589417\n"
     ]
    },
    {
     "name": "stdout",
     "output_type": "stream",
     "text": [
      "====================\n",
      "test for epoch: 18\n",
      "====================\n",
      "Overall accuracy: 0.57260101010101\n",
      "disparate impact:  57.50452079566003\n",
      "disparate misclassification rate:  80.99492961741657\n",
      "disparate false positive rate: 34.344569288389515\n",
      "disparate false negative rate: 88.64516249988283\n",
      "equalized opportunity for 0.0 : 34.344569288389515\n",
      "equalized opportunity for 1.0 : 56.21543466473884\n",
      "loss function:  bce_loss\n",
      "loss value for group 0: 0.750087320804596\n",
      "loss value for group 1: 0.6261236667633057\n",
      "====================\n",
      "test for epoch: 19\n",
      "====================\n",
      "Overall accuracy: 0.5688131313131313\n",
      "disparate impact:  44.89017125837677\n",
      "disparate misclassification rate:  85.6794265670276\n",
      "disparate false positive rate: 30.40338920611531\n",
      "disparate false negative rate: 80.31249109001226\n",
      "equalized opportunity for 0.0 : 30.40338920611531\n",
      "equalized opportunity for 1.0 : 45.089463220675945\n",
      "loss function:  bce_loss\n",
      "loss value for group 0: 0.7286678552627563\n",
      "loss value for group 1: 0.629289448261261\n",
      "====================\n",
      "test for epoch: 20\n",
      "====================\n",
      "Overall accuracy: 0.57260101010101\n",
      "disparate impact:  50.450632911392404\n",
      "disparate misclassification rate:  84.80637043158171\n",
      "disparate false positive rate: 29.96388443017657\n",
      "disparate false negative rate: 84.1525325949002\n",
      "equalized opportunity for 0.0 : 29.96388443017657\n",
      "equalized opportunity for 1.0 : 52.51102083153254\n",
      "loss function:  bce_loss\n",
      "loss value for group 0: 0.7210982441902161\n",
      "loss value for group 1: 0.6295592188835144\n",
      "====================\n",
      "test for epoch: 21\n",
      "====================\n",
      "Overall accuracy: 0.5776515151515151\n",
      "disparate impact:  60.938818565400844\n",
      "disparate misclassification rate:  83.26880119136261\n",
      "disparate false positive rate: 38.3252066991732\n",
      "disparate false negative rate: 87.36516959272087\n",
      "equalized opportunity for 0.0 : 38.3252066991732\n",
      "equalized opportunity for 1.0 : 62.0100293759829\n",
      "loss function:  bce_loss\n",
      "loss value for group 0: 0.719294548034668\n",
      "loss value for group 1: 0.6270366311073303\n",
      "====================\n",
      "test for epoch: 22\n",
      "====================\n",
      "Overall accuracy: 0.5732323232323232\n",
      "disparate impact:  57.705585553686824\n",
      "disparate misclassification rate:  86.13845913423972\n",
      "disparate false positive rate: 37.11773326819737\n",
      "disparate false negative rate: 85.53130691136668\n",
      "equalized opportunity for 0.0 : 37.11773326819737\n",
      "equalized opportunity for 1.0 : 61.366933533931544\n",
      "loss function:  bce_loss\n",
      "loss value for group 0: 0.7141352891921997\n",
      "loss value for group 1: 0.6369109153747559\n",
      "====================\n",
      "test for epoch: 23\n",
      "====================\n",
      "Overall accuracy: 0.5909090909090909\n",
      "disparate impact:  65.22503516174402\n",
      "disparate misclassification rate:  83.00452351085262\n",
      "disparate false positive rate: 48.57303370786517\n",
      "disparate false negative rate: 83.11198403790996\n",
      "equalized opportunity for 0.0 : 48.57303370786517\n",
      "equalized opportunity for 1.0 : 61.53791536495314\n",
      "loss function:  bce_loss\n",
      "loss value for group 0: 0.7046014070510864\n",
      "loss value for group 1: 0.6275005340576172\n",
      "====================\n",
      "test for epoch: 24\n",
      "====================\n",
      "Overall accuracy: 0.5915404040404041\n",
      "disparate impact:  83.46456692913385\n",
      "disparate misclassification rate:  84.36900652090526\n",
      "disparate false positive rate: 42.05457463884431\n",
      "disparate false negative rate: 98.80603566529493\n",
      "equalized opportunity for 0.0 : 42.05457463884431\n",
      "equalized opportunity for 1.0 : 96.62027833001986\n",
      "loss function:  bce_loss\n",
      "loss value for group 0: 0.6989527344703674\n",
      "loss value for group 1: 0.640055239200592\n",
      "====================\n",
      "test for epoch: 25\n",
      "====================\n",
      "Overall accuracy: 0.6060606060606061\n",
      "disparate impact:  99.24678313631132\n",
      "disparate misclassification rate:  79.41100490829243\n",
      "disparate false positive rate: 68.88539325842696\n",
      "disparate false negative rate: 98.08069471369134\n",
      "equalized opportunity for 0.0 : 68.88539325842696\n",
      "equalized opportunity for 1.0 : 95.25942933945622\n",
      "loss function:  bce_loss\n",
      "loss value for group 0: 0.688763439655304\n",
      "loss value for group 1: 0.6256545186042786\n",
      "====================\n",
      "test for epoch: 26\n",
      "====================\n",
      "Overall accuracy: 0.5978535353535354\n",
      "disparate impact:  94.48396741932157\n",
      "disparate misclassification rate:  76.14942528735634\n",
      "disparate false positive rate: 98.12734082397003\n",
      "disparate false negative rate: 96.22511400289179\n",
      "equalized opportunity for 0.0 : 98.12734082397003\n",
      "equalized opportunity for 1.0 : 90.4964578724834\n",
      "loss function:  bce_loss\n",
      "loss value for group 0: 0.6943942904472351\n",
      "loss value for group 1: 0.6275285482406616\n",
      "====================\n",
      "test for epoch: 27\n",
      "====================\n",
      "Overall accuracy: 0.5972222222222222\n",
      "disparate impact:  83.93478659095072\n",
      "disparate misclassification rate:  78.00539285446783\n",
      "disparate false positive rate: 83.49744637385086\n",
      "disparate false negative rate: 92.6386734537828\n",
      "equalized opportunity for 0.0 : 83.49744637385086\n",
      "equalized opportunity for 1.0 : 81.9918764363209\n",
      "loss function:  bce_loss\n",
      "loss value for group 0: 0.6907274127006531\n",
      "loss value for group 1: 0.6380067467689514\n",
      "====================\n",
      "test for epoch: 28\n",
      "====================\n",
      "Overall accuracy: 0.5978535353535354\n",
      "disparate impact:  81.94581060538316\n",
      "disparate misclassification rate:  76.7572598659717\n",
      "disparate false positive rate: 93.31354674581301\n",
      "disparate false negative rate: 93.39960238568588\n",
      "equalized opportunity for 0.0 : 93.31354674581301\n",
      "equalized opportunity for 1.0 : 84.13381123058542\n",
      "loss function:  bce_loss\n",
      "loss value for group 0: 0.6900367736816406\n",
      "loss value for group 1: 0.6254721879959106\n",
      "====================\n",
      "test for epoch: 29\n",
      "====================\n",
      "Overall accuracy: 0.6136363636363636\n",
      "disparate impact:  72.68049274910338\n",
      "disparate misclassification rate:  73.0821143253201\n",
      "disparate false positive rate: 77.74106566404619\n",
      "disparate false negative rate: 92.66506225803076\n",
      "equalized opportunity for 0.0 : 77.74106566404619\n",
      "equalized opportunity for 1.0 : 85.16402116402116\n",
      "loss function:  bce_loss\n",
      "loss value for group 0: 0.692905068397522\n",
      "loss value for group 1: 0.6247115135192871\n"
     ]
    }
   ],
   "source": [
    "clf, adv = train_FNN(clf, adv, train_loader,test_loader, clf_criterion, adv_criterion,clf_optimizer,adv_optimizer, lambdas, n_epoch = 30)"
   ]
  },
  {
   "cell_type": "code",
   "execution_count": 13,
   "metadata": {},
   "outputs": [
    {
     "name": "stdout",
     "output_type": "stream",
     "text": [
      "1584\n",
      "====================\n",
      "poisoned ratio:  0.0\n",
      "====================\n"
     ]
    },
    {
     "data": {
      "image/png": "[encoded data removed]",
      "text/plain": [
       "<Figure size 432x288 with 1 Axes>"
      ]
     },
     "metadata": {
      "needs_background": "light"
     },
     "output_type": "display_data"
    },
    {
     "name": "stdout",
     "output_type": "stream",
     "text": [
      "Overall accuracy: 0.625\n",
      "disparate impact:  67.63361316598787\n",
      "disparate misclassification rate:  76.07198240109632\n",
      "disparate false positive rate: 98.82825040128411\n",
      "disparate false negative rate: 85.73722500163852\n",
      "equalized opportunity for 0.0 : 98.82825040128411\n",
      "equalized opportunity for 1.0 : 70.14860539551898\n",
      "loss function:  bce_loss\n",
      "loss value for group 0: 0.6805707812309265\n",
      "loss value for group 1: 0.6210171580314636\n",
      "====================\n",
      "poisoned ratio:  0.1\n",
      "====================\n"
     ]
    },
    {
     "data": {
      "image/png": "[encoded data removed]",
      "text/plain": [
       "<Figure size 432x288 with 1 Axes>"
      ]
     },
     "metadata": {
      "needs_background": "light"
     },
     "output_type": "display_data"
    },
    {
     "name": "stdout",
     "output_type": "stream",
     "text": [
      "Overall accuracy: 0.625\n",
      "disparate impact:  76.3590391908976\n",
      "disparate misclassification rate:  80.0025611942483\n",
      "disparate false positive rate: 95.99747208763428\n",
      "disparate false negative rate: 91.51893808370805\n",
      "equalized opportunity for 0.0 : 95.99747208763428\n",
      "equalized opportunity for 1.0 : 82.4324929470243\n",
      "loss function:  bce_loss\n",
      "loss value for group 0: 0.6785091757774353\n",
      "loss value for group 1: 0.627461314201355\n",
      "====================\n",
      "poisoned ratio:  0.2\n",
      "====================\n"
     ]
    },
    {
     "data": {
      "image/png": "[encoded data removed]",
      "text/plain": [
       "<Figure size 432x288 with 1 Axes>"
      ]
     },
     "metadata": {
      "needs_background": "light"
     },
     "output_type": "display_data"
    },
    {
     "name": "stdout",
     "output_type": "stream",
     "text": [
      "Overall accuracy: 0.625\n",
      "disparate impact:  73.72095560161449\n",
      "disparate misclassification rate:  81.43363914373087\n",
      "disparate false positive rate: 90.21888871881218\n",
      "disparate false negative rate: 89.67032051882619\n",
      "equalized opportunity for 0.0 : 90.21888871881218\n",
      "equalized opportunity for 1.0 : 78.8444728706961\n",
      "loss function:  bce_loss\n",
      "loss value for group 0: 0.6747421026229858\n",
      "loss value for group 1: 0.6345126032829285\n",
      "====================\n",
      "poisoned ratio:  0.3\n",
      "====================\n"
     ]
    },
    {
     "data": {
      "image/png": "[encoded data removed]",
      "text/plain": [
       "<Figure size 432x288 with 1 Axes>"
      ]
     },
     "metadata": {
      "needs_background": "light"
     },
     "output_type": "display_data"
    },
    {
     "name": "stdout",
     "output_type": "stream",
     "text": [
      "Overall accuracy: 0.625\n",
      "disparate impact:  78.56106157992951\n",
      "disparate misclassification rate:  86.03087259258332\n",
      "disparate false positive rate: 85.00992063492063\n",
      "disparate false negative rate: 92.26456471367098\n",
      "equalized opportunity for 0.0 : 85.00992063492063\n",
      "equalized opportunity for 1.0 : 84.20163096294418\n",
      "loss function:  bce_loss\n",
      "loss value for group 0: 0.6707639694213867\n",
      "loss value for group 1: 0.6406534314155579\n"
     ]
    }
   ],
   "source": [
    "clf.eval()\n",
    "print(len(xs_te))\n",
    "for rt in [0.0,0.1,0.2,0.3]:\n",
    "    print(\"=\"*20)\n",
    "    print(\"poisoned ratio: \", rt)\n",
    "    print(\"=\"*20)\n",
    "    xs_tep =  poison_Z(xs_te,pos_rt =rt, rs = 3)\n",
    "    plt.figure()\n",
    "    plt.title('sensitive variable poisoned with '+str(rt))\n",
    "    plt.hist(xs_tep.flatten())\n",
    "    plt.show()\n",
    "\n",
    "    _, testp_loader = make_dataloaders(X_tr, X_te, y_tr, y_te, xs_tr, xs_tep)\n",
    "    test_FNN(clf, testp_loader,loss_fn = 'bce',thr = 0.5)"
   ]
  },
  {
   "cell_type": "code",
   "execution_count": null,
   "metadata": {},
   "outputs": [],
   "source": []
  },
  {
   "cell_type": "code",
   "execution_count": null,
   "metadata": {},
   "outputs": [],
   "source": []
  },
  {
   "cell_type": "code",
   "execution_count": null,
   "metadata": {},
   "outputs": [],
   "source": []
  },
  {
   "cell_type": "code",
   "execution_count": null,
   "metadata": {},
   "outputs": [],
   "source": []
  },
  {
   "cell_type": "code",
   "execution_count": null,
   "metadata": {},
   "outputs": [],
   "source": []
  },
  {
   "cell_type": "code",
   "execution_count": 4,
   "metadata": {},
   "outputs": [],
   "source": [
    "bank = pd.read_csv('../data/bank-full.csv')"
   ]
  },
  {
   "cell_type": "code",
   "execution_count": 5,
   "metadata": {},
   "outputs": [
    {
     "name": "stdout",
     "output_type": "stream",
     "text": [
      "       age           job   marital  education default  balance housing loan  \\\n",
      "0       58    management   married   tertiary      no     2143     yes   no   \n",
      "1       44    technician    single  secondary      no       29     yes   no   \n",
      "2       33  entrepreneur   married  secondary      no        2     yes  yes   \n",
      "3       47   blue-collar   married    unknown      no     1506     yes   no   \n",
      "4       33       unknown    single    unknown      no        1      no   no   \n",
      "...    ...           ...       ...        ...     ...      ...     ...  ...   \n",
      "45206   51    technician   married   tertiary      no      825      no   no   \n",
      "45207   71       retired  divorced    primary      no     1729      no   no   \n",
      "45208   72       retired   married  secondary      no     5715      no   no   \n",
      "45209   57   blue-collar   married  secondary      no      668      no   no   \n",
      "45210   37  entrepreneur   married  secondary      no     2971      no   no   \n",
      "\n",
      "         contact  day month  duration  campaign  pdays  previous poutcome    y  \n",
      "0        unknown    5   may       261         1     -1         0  unknown   no  \n",
      "1        unknown    5   may       151         1     -1         0  unknown   no  \n",
      "2        unknown    5   may        76         1     -1         0  unknown   no  \n",
      "3        unknown    5   may        92         1     -1         0  unknown   no  \n",
      "4        unknown    5   may       198         1     -1         0  unknown   no  \n",
      "...          ...  ...   ...       ...       ...    ...       ...      ...  ...  \n",
      "45206   cellular   17   nov       977         3     -1         0  unknown  yes  \n",
      "45207   cellular   17   nov       456         2     -1         0  unknown  yes  \n",
      "45208   cellular   17   nov      1127         5    184         3  success  yes  \n",
      "45209  telephone   17   nov       508         4     -1         0  unknown   no  \n",
      "45210   cellular   17   nov       361         2    188        11    other   no  \n",
      "\n",
      "[45211 rows x 17 columns]\n"
     ]
    }
   ],
   "source": [
    "print(bank)"
   ]
  },
  {
   "cell_type": "code",
   "execution_count": null,
   "metadata": {},
   "outputs": [],
   "source": []
  }
 ],
 "metadata": {
  "kernelspec": {
   "display_name": "pytorch15",
   "language": "python",
   "name": "pytorch15"
  },
  "language_info": {
   "codemirror_mode": {
    "name": "ipython",
    "version": 3
   },
   "file_extension": ".py",
   "mimetype": "text/x-python",
   "name": "python",
   "nbconvert_exporter": "python",
   "pygments_lexer": "ipython3",
   "version": "3.8.3"
  }
 },
 "nbformat": 4,
 "nbformat_minor": 4
}
