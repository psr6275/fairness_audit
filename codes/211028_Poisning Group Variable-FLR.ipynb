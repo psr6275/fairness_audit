{
 "cells": [
  {
   "cell_type": "code",
   "execution_count": 72,
   "metadata": {},
   "outputs": [],
   "source": [
    "import numpy as np\n",
    "import torch\n",
    "import random\n",
    "import copy\n",
    "import matplotlib.pyplot as plt"
   ]
  },
  {
   "cell_type": "code",
   "execution_count": 73,
   "metadata": {},
   "outputs": [],
   "source": [
    "from load_data import *\n",
    "from poison_utils import *"
   ]
  },
  {
   "cell_type": "code",
   "execution_count": 88,
   "metadata": {},
   "outputs": [
    {
     "name": "stdout",
     "output_type": "stream",
     "text": [
      "for svm min:  -1.0 and max:  1.0\n"
     ]
    }
   ],
   "source": [
    "X_tr, X_te, y_tr, y_te, xs_tr, xs_te = load_adult_data(svm=True,random_state=42,intercept=True)"
   ]
  },
  {
   "cell_type": "code",
   "execution_count": 89,
   "metadata": {},
   "outputs": [
    {
     "name": "stdout",
     "output_type": "stream",
     "text": [
      "13567\n"
     ]
    }
   ],
   "source": [
    "print(len(xs_te))"
   ]
  },
  {
   "cell_type": "code",
   "execution_count": 75,
   "metadata": {},
   "outputs": [
    {
     "name": "stdout",
     "output_type": "stream",
     "text": [
      "88.1082276614568\n"
     ]
    }
   ],
   "source": [
    "print(100-sum(y_te==1)/len(y_te)*100)"
   ]
  },
  {
   "cell_type": "code",
   "execution_count": 76,
   "metadata": {},
   "outputs": [
    {
     "name": "stdout",
     "output_type": "stream",
     "text": [
      "[0.67415453]\n"
     ]
    }
   ],
   "source": [
    "print(min(sum(xs_te==0)/sum(xs_te==1),sum(xs_te==1)/sum(xs_te==0)))"
   ]
  },
  {
   "cell_type": "code",
   "execution_count": 77,
   "metadata": {},
   "outputs": [],
   "source": [
    "xx,yy,zz = shuffle_array([X_tr,y_tr,xs_tr])"
   ]
  },
  {
   "cell_type": "code",
   "execution_count": 78,
   "metadata": {},
   "outputs": [
    {
     "name": "stdout",
     "output_type": "stream",
     "text": [
      "(28482, 46) (31647, 46)\n"
     ]
    }
   ],
   "source": [
    "print(xx.shape, X_tr.shape)"
   ]
  },
  {
   "cell_type": "code",
   "execution_count": 79,
   "metadata": {},
   "outputs": [],
   "source": [
    "from fairLR_train import *"
   ]
  },
  {
   "cell_type": "code",
   "execution_count": 80,
   "metadata": {},
   "outputs": [],
   "source": [
    "xs_tep =  poison_Z(xs_te,pos_rt = 0.1, rs = 3)"
   ]
  },
  {
   "cell_type": "code",
   "execution_count": 81,
   "metadata": {},
   "outputs": [
    {
     "name": "stdout",
     "output_type": "stream",
     "text": [
      "load data: bank\n"
     ]
    },
    {
     "name": "stderr",
     "output_type": "stream",
     "text": [
      "/home/srp/.pyenv/versions/pytorch15/lib/python3.8/site-packages/pandas/core/indexing.py:671: SettingWithCopyWarning: \n",
      "A value is trying to be set on a copy of a slice from a DataFrame\n",
      "\n",
      "See the caveats in the documentation: https://pandas.pydata.org/pandas-docs/stable/user_guide/indexing.html#returning-a-view-versus-a-copy\n",
      "  self._setitem_with_indexer(indexer, value)\n"
     ]
    },
    {
     "name": "stdout",
     "output_type": "stream",
     "text": [
      "train FLR model\n",
      "None\n",
      "save model\n",
      "saved in  ../results/bank_FLR_model.sm\n",
      "save testdata\n",
      "saved in  ../results/bank_testset.te\n",
      "saved in  ../results/bank_testX.te\n"
     ]
    }
   ],
   "source": [
    "train_flr(data = 'bank',save_dir = '../results', filename = 'bank_FLR_model')"
   ]
  },
  {
   "cell_type": "code",
   "execution_count": 82,
   "metadata": {},
   "outputs": [],
   "source": [
    "from fairLR_test import *\n",
    "from save_utils import load_flr, load_nparray,save_prediction"
   ]
  },
  {
   "cell_type": "code",
   "execution_count": 83,
   "metadata": {},
   "outputs": [],
   "source": [
    "from fair_eval import *"
   ]
  },
  {
   "cell_type": "code",
   "execution_count": 84,
   "metadata": {},
   "outputs": [],
   "source": [
    "coef = load_flr( '../results/bank_FLR_model.sm')\n",
    "pred = predict_FairLR(X_te,coef)"
   ]
  },
  {
   "cell_type": "code",
   "execution_count": 85,
   "metadata": {},
   "outputs": [
    {
     "name": "stdout",
     "output_type": "stream",
     "text": [
      "13564\n",
      "====================\n",
      "poisoned ratio:  0.0\n",
      "====================\n"
     ]
    },
    {
     "data": {
      "image/png": "[encoded data removed]",
      "text/plain": [
       "<Figure size 432x288 with 1 Axes>"
      ]
     },
     "metadata": {
      "needs_background": "light"
     },
     "output_type": "display_data"
    },
    {
     "name": "stdout",
     "output_type": "stream",
     "text": [
      "accuary :  90.03243880861102\n",
      "dispImp :  0.9384783772553551\n",
      "dispMisclf :  2.2550453161227675\n",
      "dispFPR :  0.046206229247305546\n",
      "dispFNR :  0.9180542436085017\n",
      "odds :  {-1.0: 0.046206229247305546, 1.0: 0.9180542436085071}\n",
      "====================\n",
      "poisoned ratio:  0.005\n",
      "====================\n"
     ]
    },
    {
     "data": {
      "image/png": "[encoded data removed]",
      "text/plain": [
       "<Figure size 432x288 with 1 Axes>"
      ]
     },
     "metadata": {
      "needs_background": "light"
     },
     "output_type": "display_data"
    },
    {
     "name": "stdout",
     "output_type": "stream",
     "text": [
      "accuary :  90.03243880861102\n",
      "dispImp :  0.9288786794976722\n",
      "dispMisclf :  2.259975148125447\n",
      "dispFPR :  0.07280289873920764\n",
      "dispFNR :  1.050832563756503\n",
      "odds :  {-1.0: 0.07280289873920764, 1.0: 1.0508325637565015}\n",
      "====================\n",
      "poisoned ratio:  0.01\n",
      "====================\n"
     ]
    },
    {
     "data": {
      "image/png": "[encoded data removed]",
      "text/plain": [
       "<Figure size 432x288 with 1 Axes>"
      ]
     },
     "metadata": {
      "needs_background": "light"
     },
     "output_type": "display_data"
    },
    {
     "name": "stdout",
     "output_type": "stream",
     "text": [
      "accuary :  90.03243880861102\n",
      "dispImp :  0.8775081488523844\n",
      "dispMisclf :  2.2494368360459718\n",
      "dispFPR :  0.06702939096160061\n",
      "dispFNR :  1.2917128650335263\n",
      "odds :  {-1.0: 0.06702939096160061, 1.0: 1.291712865033527}\n"
     ]
    }
   ],
   "source": [
    "print(len(xs_te))\n",
    "rep = 10\n",
    "ress = []\n",
    "for rt in [0.0,0.005,0.01]:\n",
    "    print(\"=\"*20)\n",
    "    print(\"poisoned ratio: \", rt)\n",
    "    print(\"=\"*20)\n",
    "    for j in range(rep):\n",
    "        xs_tep =  poison_Z(xs_te,pos_rt =rt, rs = 4*j+1)\n",
    "        res = test_FLR_avg_diff(X_te, y_te,xs_tep,load_path = '../results/bank_FLR_model.sm')\n",
    "        if j==0:\n",
    "            res_sum = res\n",
    "        else:\n",
    "            res_sum = add_res(res, res_sum)\n",
    "    res_sum = divide_res(res_sum,rep)\n",
    "    ress.append(res_sum)\n",
    "    plt.figure()\n",
    "    plt.title('sensitive variable poisoned with '+str(rt))\n",
    "    plt.hist(xs_tep.flatten())\n",
    "    plt.show()\n",
    "    print_res(res_sum)\n",
    "#     test_FLR(X_te,y_te,xs_tep,load_path = '../results/german_FLR_model.sm')"
   ]
  },
  {
   "cell_type": "code",
   "execution_count": 86,
   "metadata": {},
   "outputs": [
    {
     "name": "stdout",
     "output_type": "stream",
     "text": [
      "0.11891772338543202\n"
     ]
    }
   ],
   "source": [
    "print(sum(y_te==1)/len(y_te))"
   ]
  },
  {
   "cell_type": "code",
   "execution_count": 87,
   "metadata": {},
   "outputs": [
    {
     "name": "stdout",
     "output_type": "stream",
     "text": [
      "accuary :  90.03243880861102\n",
      "dispImp :  0.9384783772553551\n",
      "dispMisclf :  2.2550453161227675\n",
      "dispFPR :  0.046206229247305546\n",
      "dispFNR :  0.9180542436085017\n",
      "odds :  {-1.0: 0.046206229247305546, 1.0: 0.9180542436085071}\n",
      "accuary :  90.03243880861102\n",
      "dispImp :  0.9288786794976722\n",
      "dispMisclf :  2.259975148125447\n",
      "dispFPR :  0.07280289873920764\n",
      "dispFNR :  1.050832563756503\n",
      "odds :  {-1.0: 0.07280289873920764, 1.0: 1.0508325637565015}\n",
      "accuary :  90.03243880861102\n",
      "dispImp :  0.8775081488523844\n",
      "dispMisclf :  2.2494368360459718\n",
      "dispFPR :  0.06702939096160061\n",
      "dispFNR :  1.2917128650335263\n",
      "odds :  {-1.0: 0.06702939096160061, 1.0: 1.291712865033527}\n"
     ]
    }
   ],
   "source": [
    "for res in ress:\n",
    "    print_res(res)"
   ]
  },
  {
   "cell_type": "code",
   "execution_count": null,
   "metadata": {},
   "outputs": [],
   "source": [
    "accuary :  0.7800000000000008\n",
    "dispImp :  95.85313706114012\n",
    "dsipMisclf :  81.05185286535512\n",
    "dispFPR :  84.47226480793788\n",
    "dispFNR :  69.86858984534416\n",
    "odds :  {-1: 84.47226480793788, 1: 96.4281597958115}"
   ]
  },
  {
   "cell_type": "code",
   "execution_count": 28,
   "metadata": {},
   "outputs": [
    {
     "name": "stdout",
     "output_type": "stream",
     "text": [
      "accuary :  0.78\n",
      "dispImp :  96.28606687430216\n",
      "dsipMisclf :  77.09754748294301\n",
      "dispFPR :  77.04248366013073\n",
      "dispFNR :  67.46031746031747\n",
      "odds :  {-1: 77.04248366013073, 1: 96.40035118525022}\n"
     ]
    }
   ],
   "source": [
    "print_res(res)"
   ]
  },
  {
   "cell_type": "markdown",
   "metadata": {},
   "source": [
    "# LR training and test"
   ]
  },
  {
   "cell_type": "code",
   "execution_count": 24,
   "metadata": {},
   "outputs": [],
   "source": [
    "from sklearn import linear_model as lm"
   ]
  },
  {
   "cell_type": "code",
   "execution_count": 25,
   "metadata": {},
   "outputs": [
    {
     "data": {
      "text/plain": [
       "LogisticRegression()"
      ]
     },
     "execution_count": 25,
     "metadata": {},
     "output_type": "execute_result"
    }
   ],
   "source": [
    "clf2 = lm.LogisticRegression()\n",
    "clf2.fit(X_tr,y_tr)"
   ]
  },
  {
   "cell_type": "code",
   "execution_count": 26,
   "metadata": {},
   "outputs": [],
   "source": [
    "def test_LR_avg(clf,X_te, y_te,xs_te):\n",
    "    pred = clf.predict(X_te)\n",
    "    pred = pred.flatten()\n",
    "    y_te = y_te.flatten()\n",
    "    xs_te = xs_te.flatten()\n",
    "    res = {}\n",
    "    res['accuary'] = calculate_overall_accuracy(pred,y_te,True)\n",
    "    res['dispImp'] = calculate_impact(pred,y_te,xs_te)\n",
    "    res['dsipMisclf'] = calculate_misclassification(pred,y_te,xs_te)\n",
    "    res['dispFPR'] = calculate_mistreatment(pred,y_te,xs_te,cond=-1)\n",
    "    res['dispFNR'] = calculate_mistreatment(pred,y_te,xs_te,cond=1)\n",
    "    res['odds'] = calculate_odds_clf(pred,y_te,xs_te,return_val = True)\n",
    "    return res"
   ]
  },
  {
   "cell_type": "code",
   "execution_count": 27,
   "metadata": {},
   "outputs": [],
   "source": [
    "def test_LR(clf,X_te, y_te,xs_te):\n",
    "    pred = clf.predict(X_te)\n",
    "    calculate_overall_accuracy(pred,y_te)\n",
    "    calculate_prule_clf(pred,y_te,xs_te)\n",
    "    calculate_odds_clf(pred,y_te,xs_te)"
   ]
  },
  {
   "cell_type": "code",
   "execution_count": 28,
   "metadata": {},
   "outputs": [
    {
     "name": "stdout",
     "output_type": "stream",
     "text": [
      "1584\n",
      "====================\n",
      "poisoned ratio:  0.0\n",
      "====================\n"
     ]
    },
    {
     "data": {
      "image/png": "[encoded data removed]",
      "text/plain": [
       "<Figure size 432x288 with 1 Axes>"
      ]
     },
     "metadata": {
      "needs_background": "light"
     },
     "output_type": "display_data"
    },
    {
     "name": "stdout",
     "output_type": "stream",
     "text": [
      "accuary :  0.6824494949494949\n",
      "dispImp :  41.187680789518474\n",
      "dsipMisclf :  85.81607670623579\n",
      "dispFPR :  29.718826405867965\n",
      "dispFNR :  52.99485226711796\n",
      "odds :  {-1: 29.718826405867965, 1: 59.22559334475166}\n",
      "====================\n",
      "poisoned ratio:  0.01\n",
      "====================\n"
     ]
    },
    {
     "data": {
      "image/png": "[encoded data removed]",
      "text/plain": [
       "<Figure size 432x288 with 1 Axes>"
      ]
     },
     "metadata": {
      "needs_background": "light"
     },
     "output_type": "display_data"
    },
    {
     "name": "stdout",
     "output_type": "stream",
     "text": [
      "accuary :  0.6824494949494949\n",
      "dispImp :  41.52139330143906\n",
      "dsipMisclf :  86.24614496831992\n",
      "dispFPR :  30.239135272057364\n",
      "dispFNR :  53.083913853560276\n",
      "odds :  {-1: 30.239135272057364, 1: 59.359734383246256}\n",
      "====================\n",
      "poisoned ratio:  0.05\n",
      "====================\n"
     ]
    },
    {
     "data": {
      "image/png": "[encoded data removed]",
      "text/plain": [
       "<Figure size 432x288 with 1 Axes>"
      ]
     },
     "metadata": {
      "needs_background": "light"
     },
     "output_type": "display_data"
    },
    {
     "name": "stdout",
     "output_type": "stream",
     "text": [
      "accuary :  0.6824494949494949\n",
      "dispImp :  43.610423214161486\n",
      "dsipMisclf :  85.84066253246488\n",
      "dispFPR :  31.845542519072342\n",
      "dispFNR :  55.0168320984035\n",
      "odds :  {-1: 31.845542519072342, 1: 61.799995536966605}\n",
      "====================\n",
      "poisoned ratio:  0.1\n",
      "====================\n"
     ]
    },
    {
     "data": {
      "image/png": "[encoded data removed]",
      "text/plain": [
       "<Figure size 432x288 with 1 Axes>"
      ]
     },
     "metadata": {
      "needs_background": "light"
     },
     "output_type": "display_data"
    },
    {
     "name": "stdout",
     "output_type": "stream",
     "text": [
      "accuary :  0.6824494949494949\n",
      "dispImp :  46.18237079018337\n",
      "dsipMisclf :  86.24415058705138\n",
      "dispFPR :  34.22878925637983\n",
      "dispFNR :  57.07592556659057\n",
      "odds :  {-1: 34.22878925637983, 1: 64.2692322892489}\n",
      "====================\n",
      "poisoned ratio:  0.2\n",
      "====================\n"
     ]
    },
    {
     "data": {
      "image/png": "[encoded data removed]",
      "text/plain": [
       "<Figure size 432x288 with 1 Axes>"
      ]
     },
     "metadata": {
      "needs_background": "light"
     },
     "output_type": "display_data"
    },
    {
     "name": "stdout",
     "output_type": "stream",
     "text": [
      "accuary :  0.6824494949494949\n",
      "dispImp :  51.413929591822104\n",
      "dsipMisclf :  87.55137295791775\n",
      "dispFPR :  39.79594712003604\n",
      "dispFNR :  61.122467434137874\n",
      "odds :  {-1: 39.79594712003604, 1: 68.79564209756917}\n",
      "====================\n",
      "poisoned ratio:  0.3\n",
      "====================\n"
     ]
    },
    {
     "data": {
      "image/png": "[encoded data removed]",
      "text/plain": [
       "<Figure size 432x288 with 1 Axes>"
      ]
     },
     "metadata": {
      "needs_background": "light"
     },
     "output_type": "display_data"
    },
    {
     "name": "stdout",
     "output_type": "stream",
     "text": [
      "accuary :  0.6824494949494949\n",
      "dispImp :  56.825155197727966\n",
      "dsipMisclf :  90.96872758470627\n",
      "dispFPR :  47.407473418101475\n",
      "dispFNR :  64.18754280208952\n",
      "odds :  {-1: 47.407473418101475, 1: 72.19245417013788}\n"
     ]
    }
   ],
   "source": [
    "print(len(xs_te))\n",
    "rep = 10\n",
    "for rt in [0.0,0.01,0.05,0.1,0.2,0.3]:\n",
    "    print(\"=\"*20)\n",
    "    print(\"poisoned ratio: \", rt)\n",
    "    print(\"=\"*20)\n",
    "    for j in range(rep):\n",
    "        xs_tep =  poison_Z(xs_te,pos_rt =rt, rs = 3*j)\n",
    "        res = test_LR_avg(clf2,X_te, y_te,xs_tep)\n",
    "        if j==0:\n",
    "            res_sum = res\n",
    "        else:\n",
    "            res_sum = add_res(res, res_sum)\n",
    "    res_sum = divide_res(res_sum,rep)\n",
    "    plt.figure()\n",
    "    plt.title('sensitive variable poisoned with '+str(rt))\n",
    "    plt.hist(xs_tep.flatten())\n",
    "    plt.show()\n",
    "    print_res(res_sum)\n",
    "#     test_FLR(X_te,y_te,xs_tep,load_path = '../results/german_FLR_model.sm')"
   ]
  },
  {
   "cell_type": "code",
   "execution_count": 24,
   "metadata": {},
   "outputs": [
    {
     "name": "stdout",
     "output_type": "stream",
     "text": [
      "300\n",
      "====================\n",
      "poisoned ratio:  0.0\n",
      "====================\n"
     ]
    },
    {
     "data": {
      "image/png": "[encoded data removed]",
      "text/plain": [
       "<Figure size 432x288 with 1 Axes>"
      ]
     },
     "metadata": {
      "needs_background": "light"
     },
     "output_type": "display_data"
    },
    {
     "name": "stdout",
     "output_type": "stream",
     "text": [
      "Overall accuracy: 0.7933333333333333\n",
      "disparate impact:  100.0\n",
      "disparate misclassification rate:  61.11111111111111\n",
      "disparate false positive rate: 70.90909090909092\n",
      "disparate false negative rate: 90.3114186851211\n",
      "equalized opportunity for -1 : 70.90909090909092\n",
      "equalized opportunity for 1 : 98.9618094178717\n",
      "====================\n",
      "poisoned ratio:  0.01\n",
      "====================\n"
     ]
    },
    {
     "data": {
      "image/png": "[encoded data removed]",
      "text/plain": [
       "<Figure size 432x288 with 1 Axes>"
      ]
     },
     "metadata": {
      "needs_background": "light"
     },
     "output_type": "display_data"
    },
    {
     "name": "stdout",
     "output_type": "stream",
     "text": [
      "Overall accuracy: 0.7933333333333333\n",
      "disparate impact:  99.21507064364208\n",
      "disparate misclassification rate:  64.9789029535865\n",
      "disparate false positive rate: 74.76923076923076\n",
      "disparate false negative rate: 84.31372549019608\n",
      "equalized opportunity for -1 : 74.76923076923076\n",
      "equalized opportunity for 1 : 98.30866807610995\n",
      "====================\n",
      "poisoned ratio:  0.05\n",
      "====================\n"
     ]
    },
    {
     "data": {
      "image/png": "[encoded data removed]",
      "text/plain": [
       "<Figure size 432x288 with 1 Axes>"
      ]
     },
     "metadata": {
      "needs_background": "light"
     },
     "output_type": "display_data"
    },
    {
     "name": "stdout",
     "output_type": "stream",
     "text": [
      "Overall accuracy: 0.7933333333333333\n",
      "disparate impact:  98.9596670934699\n",
      "disparate misclassification rate:  60.53233520482429\n",
      "disparate false positive rate: 71.15749525616698\n",
      "disparate false negative rate: 98.20359281437126\n",
      "equalized opportunity for -1 : 71.15749525616698\n",
      "equalized opportunity for 1 : 99.80617024713293\n",
      "====================\n",
      "poisoned ratio:  0.1\n",
      "====================\n"
     ]
    },
    {
     "data": {
      "image/png": "[encoded data removed]",
      "text/plain": [
       "<Figure size 432x288 with 1 Axes>"
      ]
     },
     "metadata": {
      "needs_background": "light"
     },
     "output_type": "display_data"
    },
    {
     "name": "stdout",
     "output_type": "stream",
     "text": [
      "Overall accuracy: 0.7933333333333333\n",
      "disparate impact:  92.17092266042292\n",
      "disparate misclassification rate:  60.61381074168798\n",
      "disparate false positive rate: 82.25324027916251\n",
      "disparate false negative rate: 66.2551440329218\n",
      "equalized opportunity for -1 : 82.25324027916251\n",
      "equalized opportunity for 1 : 95.18213866039953\n",
      "====================\n",
      "poisoned ratio:  0.2\n",
      "====================\n"
     ]
    },
    {
     "data": {
      "image/png": "[encoded data removed]",
      "text/plain": [
       "<Figure size 432x288 with 1 Axes>"
      ]
     },
     "metadata": {
      "needs_background": "light"
     },
     "output_type": "display_data"
    },
    {
     "name": "stdout",
     "output_type": "stream",
     "text": [
      "Overall accuracy: 0.7933333333333333\n",
      "disparate impact:  96.83544303797468\n",
      "disparate misclassification rate:  65.15837104072399\n",
      "disparate false positive rate: 77.81954887218045\n",
      "disparate false negative rate: 75.2895752895753\n",
      "equalized opportunity for -1 : 77.81954887218045\n",
      "equalized opportunity for 1 : 96.8395061728395\n",
      "====================\n",
      "poisoned ratio:  0.3\n",
      "====================\n"
     ]
    },
    {
     "data": {
      "image/png": "[encoded data removed]",
      "text/plain": [
       "<Figure size 432x288 with 1 Axes>"
      ]
     },
     "metadata": {
      "needs_background": "light"
     },
     "output_type": "display_data"
    },
    {
     "name": "stdout",
     "output_type": "stream",
     "text": [
      "Overall accuracy: 0.7933333333333333\n",
      "disparate impact:  99.37733499377336\n",
      "disparate misclassification rate:  70.30075187969925\n",
      "disparate false positive rate: 76.92307692307692\n",
      "disparate false negative rate: 94.20289855072464\n",
      "equalized opportunity for -1 : 76.92307692307692\n",
      "equalized opportunity for 1 : 99.36\n"
     ]
    }
   ],
   "source": [
    "print(len(xs_te))\n",
    "for rt in [0.0,0.01,0.05,0.1,0.2,0.3]:\n",
    "    print(\"=\"*20)\n",
    "    print(\"poisoned ratio: \", rt)\n",
    "    print(\"=\"*20)\n",
    "    xs_tep =  poison_Z(xs_te,pos_rt =rt, rs = 3)\n",
    "    plt.figure()\n",
    "    plt.title('sensitive variable poisoned with '+str(rt))\n",
    "    plt.hist(xs_tep.flatten())\n",
    "    plt.show()\n",
    "\n",
    "    test_LR(clf2,X_te,y_te,xs_tep)"
   ]
  },
  {
   "cell_type": "code",
   "execution_count": null,
   "metadata": {},
   "outputs": [],
   "source": []
  },
  {
   "cell_type": "code",
   "execution_count": null,
   "metadata": {},
   "outputs": [],
   "source": []
  },
  {
   "cell_type": "code",
   "execution_count": null,
   "metadata": {},
   "outputs": [],
   "source": []
  },
  {
   "cell_type": "code",
   "execution_count": null,
   "metadata": {},
   "outputs": [],
   "source": []
  },
  {
   "cell_type": "code",
   "execution_count": 25,
   "metadata": {},
   "outputs": [],
   "source": [
    "bank = pd.read_csv('../data/bank-full.csv')"
   ]
  },
  {
   "cell_type": "code",
   "execution_count": 26,
   "metadata": {},
   "outputs": [
    {
     "name": "stdout",
     "output_type": "stream",
     "text": [
      "       age           job   marital  education default  balance housing loan  \\\n",
      "0       58    management   married   tertiary      no     2143     yes   no   \n",
      "1       44    technician    single  secondary      no       29     yes   no   \n",
      "2       33  entrepreneur   married  secondary      no        2     yes  yes   \n",
      "3       47   blue-collar   married    unknown      no     1506     yes   no   \n",
      "4       33       unknown    single    unknown      no        1      no   no   \n",
      "...    ...           ...       ...        ...     ...      ...     ...  ...   \n",
      "45206   51    technician   married   tertiary      no      825      no   no   \n",
      "45207   71       retired  divorced    primary      no     1729      no   no   \n",
      "45208   72       retired   married  secondary      no     5715      no   no   \n",
      "45209   57   blue-collar   married  secondary      no      668      no   no   \n",
      "45210   37  entrepreneur   married  secondary      no     2971      no   no   \n",
      "\n",
      "         contact  day month  duration  campaign  pdays  previous poutcome    y  \n",
      "0        unknown    5   may       261         1     -1         0  unknown   no  \n",
      "1        unknown    5   may       151         1     -1         0  unknown   no  \n",
      "2        unknown    5   may        76         1     -1         0  unknown   no  \n",
      "3        unknown    5   may        92         1     -1         0  unknown   no  \n",
      "4        unknown    5   may       198         1     -1         0  unknown   no  \n",
      "...          ...  ...   ...       ...       ...    ...       ...      ...  ...  \n",
      "45206   cellular   17   nov       977         3     -1         0  unknown  yes  \n",
      "45207   cellular   17   nov       456         2     -1         0  unknown  yes  \n",
      "45208   cellular   17   nov      1127         5    184         3  success  yes  \n",
      "45209  telephone   17   nov       508         4     -1         0  unknown   no  \n",
      "45210   cellular   17   nov       361         2    188        11    other   no  \n",
      "\n",
      "[45211 rows x 17 columns]\n"
     ]
    }
   ],
   "source": [
    "print(bank)"
   ]
  },
  {
   "cell_type": "code",
   "execution_count": null,
   "metadata": {},
   "outputs": [],
   "source": []
  }
 ],
 "metadata": {
  "kernelspec": {
   "display_name": "pytorch15",
   "language": "python",
   "name": "pytorch15"
  },
  "language_info": {
   "codemirror_mode": {
    "name": "ipython",
    "version": 3
   },
   "file_extension": ".py",
   "mimetype": "text/x-python",
   "name": "python",
   "nbconvert_exporter": "python",
   "pygments_lexer": "ipython3",
   "version": "3.8.3"
  }
 },
 "nbformat": 4,
 "nbformat_minor": 4
}
