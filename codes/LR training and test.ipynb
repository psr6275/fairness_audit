{
 "cells": [
  {
   "cell_type": "code",
   "execution_count": 1,
   "metadata": {},
   "outputs": [],
   "source": [
    "import numpy as np"
   ]
  },
  {
   "cell_type": "code",
   "execution_count": 2,
   "metadata": {},
   "outputs": [],
   "source": [
    "from evaluation import *\n",
    "from load_data import *"
   ]
  },
  {
   "cell_type": "markdown",
   "metadata": {},
   "source": [
    "# Training Logistic Regression (LR)"
   ]
  },
  {
   "cell_type": "code",
   "execution_count": 5,
   "metadata": {},
   "outputs": [],
   "source": [
    "from sklearn import linear_model as lm\n",
    "import matplotlib.pyplot as plt"
   ]
  },
  {
   "cell_type": "code",
   "execution_count": 66,
   "metadata": {
    "scrolled": true
   },
   "outputs": [
    {
     "name": "stdout",
     "output_type": "stream",
     "text": [
      "for svm min:  -1.0 and max:  1.0\n"
     ]
    }
   ],
   "source": [
    "X_tr, X_te, y_tr, y_te, xs_tr, xs_te = load_adult_data(svm=True,random_state=42)"
   ]
  },
  {
   "cell_type": "code",
   "execution_count": 67,
   "metadata": {},
   "outputs": [
    {
     "name": "stderr",
     "output_type": "stream",
     "text": [
      "/home/srp/.pyenv/versions/pytorch15/lib/python3.8/site-packages/sklearn/linear_model/_logistic.py:762: ConvergenceWarning: lbfgs failed to converge (status=1):\n",
      "STOP: TOTAL NO. of ITERATIONS REACHED LIMIT.\n",
      "\n",
      "Increase the number of iterations (max_iter) or scale the data as shown in:\n",
      "    https://scikit-learn.org/stable/modules/preprocessing.html\n",
      "Please also refer to the documentation for alternative solver options:\n",
      "    https://scikit-learn.org/stable/modules/linear_model.html#logistic-regression\n",
      "  n_iter_i = _check_optimize_result(\n"
     ]
    },
    {
     "data": {
      "text/plain": [
       "LogisticRegression()"
      ]
     },
     "execution_count": 67,
     "metadata": {},
     "output_type": "execute_result"
    }
   ],
   "source": [
    "clf = lm.LogisticRegression()\n",
    "clf.fit(X_tr,y_tr)"
   ]
  },
  {
   "cell_type": "markdown",
   "metadata": {},
   "source": [
    "## principal model parameters"
   ]
  },
  {
   "cell_type": "code",
   "execution_count": 68,
   "metadata": {},
   "outputs": [],
   "source": [
    "import os\n",
    "import pickle"
   ]
  },
  {
   "cell_type": "code",
   "execution_count": 69,
   "metadata": {},
   "outputs": [],
   "source": [
    "coef = clf.coef_"
   ]
  },
  {
   "cell_type": "code",
   "execution_count": 70,
   "metadata": {},
   "outputs": [
    {
     "data": {
      "text/plain": [
       "(1, 50)"
      ]
     },
     "execution_count": 70,
     "metadata": {},
     "output_type": "execute_result"
    }
   ],
   "source": [
    "coef.shape"
   ]
  },
  {
   "cell_type": "code",
   "execution_count": 71,
   "metadata": {},
   "outputs": [],
   "source": [
    "def save_lr(clf, save_dir = '', filename = 'lr_model'):\n",
    "    res = {}\n",
    "    res['coef'] = clf.coef_\n",
    "    res['intercept'] = clf.intercept_\n",
    "    save_path = os.path.join(save_dir, filename+'.sm')\n",
    "    with open(save_path,'wb') as f:\n",
    "        pickle.dump(res,f)\n",
    "\n",
    "def load_lr(save_path):\n",
    "    with open(save_path,'rb') as f:\n",
    "        aa = pickle.load(f)\n",
    "    return aa"
   ]
  },
  {
   "cell_type": "code",
   "execution_count": 72,
   "metadata": {},
   "outputs": [],
   "source": [
    "save_lr(clf)"
   ]
  },
  {
   "cell_type": "code",
   "execution_count": 73,
   "metadata": {},
   "outputs": [],
   "source": [
    "sm = load_lr('lr_model.sm')"
   ]
  },
  {
   "cell_type": "code",
   "execution_count": 74,
   "metadata": {},
   "outputs": [
    {
     "data": {
      "text/plain": [
       "{'coef': array([[-6.31540424e-01,  1.44293901e+00,  1.59821291e+00,\n",
       "         -3.94117178e-01, -9.90759179e-01, -6.94131560e-01,\n",
       "         -6.76606325e-01,  1.82782479e+01, -3.13413906e-01,\n",
       "         -1.52160827e-01,  1.96992202e-01,  6.14500911e-01,\n",
       "         -3.36419099e-01,  3.42350888e-01,  9.07930269e-01,\n",
       "         -1.56697118e-01, -7.34706590e-01, -7.14379474e-01,\n",
       "          1.95995001e+00,  2.58264668e+00,  5.59214846e-02,\n",
       "          1.32185938e-01,  1.62865109e-01,  7.89576289e-01,\n",
       "         -8.72116563e-01, -5.94160878e-01, -2.11721390e-01,\n",
       "         -8.78463572e-01, -9.44528620e-01,  5.77150736e-01,\n",
       "          5.56604081e-01,  3.53820430e-01,  6.07938431e-01,\n",
       "         -8.10742204e-02,  5.24869697e-01, -5.08622433e-02,\n",
       "          1.03910142e-01,  2.47268500e-01, -4.58003497e-01,\n",
       "         -2.75386606e-01, -4.37798737e-01,  1.54977062e-01,\n",
       "          3.70728433e-01, -8.22717487e-01, -6.29695503e-01,\n",
       "         -3.59610364e-03,  5.84300853e-01,  2.87035533e+00,\n",
       "          2.28730776e+00,  1.78664498e-01]]),\n",
       " 'intercept': array([-5.85531805])}"
      ]
     },
     "execution_count": 74,
     "metadata": {},
     "output_type": "execute_result"
    }
   ],
   "source": [
    "sm"
   ]
  },
  {
   "cell_type": "markdown",
   "metadata": {},
   "source": [
    "# testing LR model"
   ]
  },
  {
   "cell_type": "markdown",
   "metadata": {},
   "source": [
    "## Prediction phase"
   ]
  },
  {
   "cell_type": "code",
   "execution_count": 75,
   "metadata": {},
   "outputs": [],
   "source": [
    "# scikit-learn svm library\n",
    "pred_ = clf.predict(X_te)"
   ]
  },
  {
   "cell_type": "code",
   "execution_count": 76,
   "metadata": {},
   "outputs": [],
   "source": [
    "def predict_lr(X_te, coef, intercept):\n",
    "    dec_eval = np.dot(X_te,coef.T)+intercept\n",
    "    return np.sign(dec_eval).flatten()"
   ]
  },
  {
   "cell_type": "code",
   "execution_count": 77,
   "metadata": {},
   "outputs": [],
   "source": [
    "pred = predict_lr(X_te, sm['coef'],sm['intercept'])"
   ]
  },
  {
   "cell_type": "code",
   "execution_count": 78,
   "metadata": {},
   "outputs": [
    {
     "data": {
      "text/plain": [
       "13567"
      ]
     },
     "execution_count": 78,
     "metadata": {},
     "output_type": "execute_result"
    }
   ],
   "source": [
    "sum(pred ==pred_)"
   ]
  },
  {
   "cell_type": "code",
   "execution_count": 79,
   "metadata": {},
   "outputs": [
    {
     "data": {
      "text/plain": [
       "array([-1., -1., -1., ..., -1.,  1., -1.])"
      ]
     },
     "execution_count": 79,
     "metadata": {},
     "output_type": "execute_result"
    }
   ],
   "source": [
    "pred"
   ]
  },
  {
   "cell_type": "code",
   "execution_count": 80,
   "metadata": {},
   "outputs": [
    {
     "data": {
      "text/plain": [
       "array([-1., -1., -1., ..., -1.,  1., -1.])"
      ]
     },
     "execution_count": 80,
     "metadata": {},
     "output_type": "execute_result"
    }
   ],
   "source": [
    "pred_"
   ]
  },
  {
   "cell_type": "markdown",
   "metadata": {},
   "source": [
    "# Evaluation"
   ]
  },
  {
   "cell_type": "code",
   "execution_count": 30,
   "metadata": {},
   "outputs": [],
   "source": [
    "from fair_eval import calculate_prule_clf, calculate_odds_clf, calculate_parity_reg, calculate_group_loss,l2_loss, calculate_overall_accuracy"
   ]
  },
  {
   "cell_type": "code",
   "execution_count": 31,
   "metadata": {},
   "outputs": [
    {
     "name": "stdout",
     "output_type": "stream",
     "text": [
      "disparate impact:  28.12225084892608\n",
      "disparate misclassification rate:  39.576491418826556\n",
      "disparate false positive rate: 18.07199394545052\n",
      "disparate false negative rate: 76.91751608472492\n"
     ]
    }
   ],
   "source": [
    "calculate_prule_clf(pred,y_te,xs_te)"
   ]
  },
  {
   "cell_type": "code",
   "execution_count": 32,
   "metadata": {},
   "outputs": [
    {
     "name": "stdout",
     "output_type": "stream",
     "text": [
      "equalized opportunity for -1.0 : 18.07199394545052\n",
      "equalized opportunity for 1.0 : 80.13315082130413\n"
     ]
    }
   ],
   "source": [
    "calculate_odds_clf(pred,y_te,xs_te)"
   ]
  },
  {
   "cell_type": "code",
   "execution_count": 33,
   "metadata": {},
   "outputs": [
    {
     "name": "stdout",
     "output_type": "stream",
     "text": [
      "disparate parity for threshold -0.5037959755288568: 28.12225084892608\n"
     ]
    }
   ],
   "source": [
    "calculate_parity_reg(pred,y_te,xs_te)"
   ]
  },
  {
   "cell_type": "code",
   "execution_count": 34,
   "metadata": {},
   "outputs": [
    {
     "name": "stdout",
     "output_type": "stream",
     "text": [
      "loss function:  l2_loss\n",
      "loss value for group 0: 0.30259829845941594\n",
      "loss value for group 1: 0.7645910175743111\n"
     ]
    }
   ],
   "source": [
    "calculate_group_loss(l2_loss,pred,y_te,xs_te)"
   ]
  },
  {
   "cell_type": "code",
   "execution_count": 35,
   "metadata": {},
   "outputs": [],
   "source": [
    "def cal_overall_accuracy(pred,y):\n",
    "    pred = pred.flatten()\n",
    "    return np.sum(pred==y)/len(pred)"
   ]
  },
  {
   "cell_type": "code",
   "execution_count": 37,
   "metadata": {},
   "outputs": [
    {
     "data": {
      "text/plain": [
       "0.8458760227021449"
      ]
     },
     "execution_count": 37,
     "metadata": {},
     "output_type": "execute_result"
    }
   ],
   "source": [
    "calculate_overall_accuracy(pred,y_te)"
   ]
  },
  {
   "cell_type": "code",
   "execution_count": null,
   "metadata": {},
   "outputs": [],
   "source": []
  }
 ],
 "metadata": {
  "kernelspec": {
   "display_name": "pytorch15",
   "language": "python",
   "name": "pytorch15"
  },
  "language_info": {
   "codemirror_mode": {
    "name": "ipython",
    "version": 3
   },
   "file_extension": ".py",
   "mimetype": "text/x-python",
   "name": "python",
   "nbconvert_exporter": "python",
   "pygments_lexer": "ipython3",
   "version": "3.8.3"
  }
 },
 "nbformat": 4,
 "nbformat_minor": 4
}
