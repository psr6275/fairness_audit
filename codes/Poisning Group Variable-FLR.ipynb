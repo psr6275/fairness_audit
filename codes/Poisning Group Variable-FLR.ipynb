{
 "cells": [
  {
   "cell_type": "code",
   "execution_count": 1,
   "metadata": {},
   "outputs": [],
   "source": [
    "import numpy as np\n",
    "import torch\n",
    "import random\n",
    "import copy\n",
    "import matplotlib.pyplot as plt"
   ]
  },
  {
   "cell_type": "code",
   "execution_count": 2,
   "metadata": {},
   "outputs": [],
   "source": [
    "from load_data import *"
   ]
  },
  {
   "cell_type": "code",
   "execution_count": 4,
   "metadata": {},
   "outputs": [],
   "source": [
    "X_tr, X_te, y_tr, y_te, xs_tr, xs_te = load_german_data(svm=True,random_state=42,intercept=True)"
   ]
  },
  {
   "cell_type": "code",
   "execution_count": 5,
   "metadata": {},
   "outputs": [],
   "source": [
    "def poison_Z(xs,pos_rt = 0.1, rs = 3):\n",
    "    n_pos = int(len(xs)*pos_rt)\n",
    "    random.seed(rs)\n",
    "    r_idxs = list(range(len(xs)))\n",
    "    random.shuffle(r_idxs)\n",
    "    xsp = copy.deepcopy(xs)\n",
    "    xsp[r_idxs[:n_pos]] = 1-xs_tr[r_idxs[:n_pos]]\n",
    "    return xsp"
   ]
  },
  {
   "cell_type": "code",
   "execution_count": 6,
   "metadata": {},
   "outputs": [],
   "source": [
    "from fairLR_train import *"
   ]
  },
  {
   "cell_type": "code",
   "execution_count": 7,
   "metadata": {},
   "outputs": [],
   "source": [
    "xs_tep =  poison_Z(xs_te,pos_rt = 0.1, rs = 3)"
   ]
  },
  {
   "cell_type": "code",
   "execution_count": 8,
   "metadata": {},
   "outputs": [
    {
     "name": "stdout",
     "output_type": "stream",
     "text": [
      "load data: german\n",
      "train FLR model\n",
      "None\n",
      "save model\n",
      "saved in  ../results/german_FLR_model.sm\n",
      "save testdata\n",
      "saved in  ../results/german_testset.te\n",
      "saved in  ../results/german_testX.te\n"
     ]
    }
   ],
   "source": [
    "train_flr(data = 'german',save_dir = '../results', filename = 'german_FLR_model')"
   ]
  },
  {
   "cell_type": "code",
   "execution_count": 9,
   "metadata": {},
   "outputs": [],
   "source": [
    "from fairLR_test import *\n",
    "from save_utils import load_flr, load_nparray,save_prediction"
   ]
  },
  {
   "cell_type": "code",
   "execution_count": 10,
   "metadata": {},
   "outputs": [],
   "source": [
    "from fair_eval import calculate_prule_clf, calculate_odds_clf, calculate_parity_reg, calculate_group_loss,l2_loss, calculate_overall_accuracy,bce_loss"
   ]
  },
  {
   "cell_type": "code",
   "execution_count": 12,
   "metadata": {},
   "outputs": [],
   "source": [
    "coef = load_flr( '../results/german_FLR_model.sm')\n",
    "pred = predict_FairLR(X_te,coef)"
   ]
  },
  {
   "cell_type": "code",
   "execution_count": 15,
   "metadata": {},
   "outputs": [],
   "source": [
    "def test_FLR(X_te, y_te,xs_te,load_path = '../results/german_FLR_model.sm'):\n",
    "    coef = load_flr(load_path)\n",
    "    pred = predict_FairLR(X_te,coef)\n",
    "    calculate_overall_accuracy(pred,y_te)\n",
    "    calculate_prule_clf(pred,y_te,xs_te)\n",
    "    calculate_odds_clf(pred,y_te,xs_te)"
   ]
  },
  {
   "cell_type": "code",
   "execution_count": 16,
   "metadata": {},
   "outputs": [
    {
     "name": "stdout",
     "output_type": "stream",
     "text": [
      "300\n",
      "====================\n",
      "poisoned ratio:  0.0\n",
      "====================\n"
     ]
    },
    {
     "data": {
      "image/png": "[encoded data removed]",
      "text/plain": [
       "<Figure size 432x288 with 1 Axes>"
      ]
     },
     "metadata": {
      "needs_background": "light"
     },
     "output_type": "display_data"
    },
    {
     "name": "stdout",
     "output_type": "stream",
     "text": [
      "Overall accuracy: 0.78\n",
      "disparate impact:  93.0\n",
      "disparate misclassification rate:  57.50000000000001\n",
      "disparate false positive rate: 63.468013468013474\n",
      "disparate false negative rate: 60.207612456747405\n",
      "equalized opportunity for -1 : 63.468013468013474\n",
      "equalized opportunity for 1 : 95.86925287356321\n",
      "====================\n",
      "poisoned ratio:  0.1\n",
      "====================\n"
     ]
    },
    {
     "data": {
      "image/png": "[encoded data removed]",
      "text/plain": [
       "<Figure size 432x288 with 1 Axes>"
      ]
     },
     "metadata": {
      "needs_background": "light"
     },
     "output_type": "display_data"
    },
    {
     "name": "stdout",
     "output_type": "stream",
     "text": [
      "Overall accuracy: 0.78\n",
      "disparate impact:  97.5117540687161\n",
      "disparate misclassification rate:  58.62443438914027\n",
      "disparate false positive rate: 75.50847457627118\n",
      "disparate false negative rate: 79.50617283950618\n",
      "equalized opportunity for -1 : 75.50847457627118\n",
      "equalized opportunity for 1 : 97.56169212690952\n",
      "====================\n",
      "poisoned ratio:  0.2\n",
      "====================\n"
     ]
    },
    {
     "data": {
      "image/png": "[encoded data removed]",
      "text/plain": [
       "<Figure size 432x288 with 1 Axes>"
      ]
     },
     "metadata": {
      "needs_background": "light"
     },
     "output_type": "display_data"
    },
    {
     "name": "stdout",
     "output_type": "stream",
     "text": [
      "Overall accuracy: 0.78\n",
      "disparate impact:  98.99068322981367\n",
      "disparate misclassification rate:  67.97385620915031\n",
      "disparate false positive rate: 79.59183673469387\n",
      "disparate false negative rate: 87.83783783783784\n",
      "equalized opportunity for -1 : 79.59183673469387\n",
      "equalized opportunity for 1 : 98.66666666666667\n",
      "====================\n",
      "poisoned ratio:  0.3\n",
      "====================\n"
     ]
    },
    {
     "data": {
      "image/png": "[encoded data removed]",
      "text/plain": [
       "<Figure size 432x288 with 1 Axes>"
      ]
     },
     "metadata": {
      "needs_background": "light"
     },
     "output_type": "display_data"
    },
    {
     "name": "stdout",
     "output_type": "stream",
     "text": [
      "Overall accuracy: 0.78\n",
      "disparate impact:  99.15305505142166\n",
      "disparate misclassification rate:  73.86569872958259\n",
      "disparate false positive rate: 80.26755852842811\n",
      "disparate false negative rate: 90.98901098901099\n",
      "equalized opportunity for -1 : 80.26755852842811\n",
      "equalized opportunity for 1 : 99.0715579710145\n"
     ]
    }
   ],
   "source": [
    "print(len(xs_te))\n",
    "for rt in [0.0,0.1,0.2,0.3]:\n",
    "    print(\"=\"*20)\n",
    "    print(\"poisoned ratio: \", rt)\n",
    "    print(\"=\"*20)\n",
    "    xs_tep =  poison_Z(xs_te,pos_rt =rt, rs = 3)\n",
    "    plt.figure()\n",
    "    plt.title('sensitive variable poisoned with '+str(rt))\n",
    "    plt.hist(xs_tep.flatten())\n",
    "    plt.show()\n",
    "\n",
    "    test_FLR(X_te,y_te,xs_tep,load_path = '../results/german_FLR_model.sm')"
   ]
  },
  {
   "cell_type": "code",
   "execution_count": null,
   "metadata": {},
   "outputs": [],
   "source": []
  },
  {
   "cell_type": "markdown",
   "metadata": {},
   "source": [
    "# LR training and test"
   ]
  },
  {
   "cell_type": "code",
   "execution_count": 17,
   "metadata": {},
   "outputs": [],
   "source": [
    "from sklearn import linear_model as lm"
   ]
  },
  {
   "cell_type": "code",
   "execution_count": 18,
   "metadata": {},
   "outputs": [
    {
     "data": {
      "text/plain": [
       "LogisticRegression()"
      ]
     },
     "execution_count": 18,
     "metadata": {},
     "output_type": "execute_result"
    }
   ],
   "source": [
    "clf = lm.LogisticRegression()\n",
    "clf.fit(X_tr,y_tr)"
   ]
  },
  {
   "cell_type": "code",
   "execution_count": 19,
   "metadata": {},
   "outputs": [],
   "source": [
    "def test_LR(clf,X_te, y_te,xs_te):\n",
    "    pred = clf.predict(X_te)\n",
    "    calculate_overall_accuracy(pred,y_te)\n",
    "    calculate_prule_clf(pred,y_te,xs_te)\n",
    "    calculate_odds_clf(pred,y_te,xs_te)"
   ]
  },
  {
   "cell_type": "code",
   "execution_count": 20,
   "metadata": {},
   "outputs": [
    {
     "name": "stdout",
     "output_type": "stream",
     "text": [
      "300\n",
      "====================\n",
      "poisoned ratio:  0.0\n",
      "====================\n"
     ]
    },
    {
     "data": {
      "image/png": "[encoded data removed]",
      "text/plain": [
       "<Figure size 432x288 with 1 Axes>"
      ]
     },
     "metadata": {
      "needs_background": "light"
     },
     "output_type": "display_data"
    },
    {
     "name": "stdout",
     "output_type": "stream",
     "text": [
      "Overall accuracy: 0.7933333333333333\n",
      "disparate impact:  100.0\n",
      "disparate misclassification rate:  61.11111111111111\n",
      "disparate false positive rate: 70.90909090909092\n",
      "disparate false negative rate: 90.3114186851211\n",
      "equalized opportunity for -1 : 70.90909090909092\n",
      "equalized opportunity for 1 : 98.9618094178717\n",
      "====================\n",
      "poisoned ratio:  0.1\n",
      "====================\n"
     ]
    },
    {
     "data": {
      "image/png": "[encoded data removed]",
      "text/plain": [
       "<Figure size 432x288 with 1 Axes>"
      ]
     },
     "metadata": {
      "needs_background": "light"
     },
     "output_type": "display_data"
    },
    {
     "name": "stdout",
     "output_type": "stream",
     "text": [
      "Overall accuracy: 0.7933333333333333\n",
      "disparate impact:  92.17092266042292\n",
      "disparate misclassification rate:  60.61381074168798\n",
      "disparate false positive rate: 82.25324027916251\n",
      "disparate false negative rate: 66.2551440329218\n",
      "equalized opportunity for -1 : 82.25324027916251\n",
      "equalized opportunity for 1 : 95.18213866039953\n",
      "====================\n",
      "poisoned ratio:  0.2\n",
      "====================\n"
     ]
    },
    {
     "data": {
      "image/png": "[encoded data removed]",
      "text/plain": [
       "<Figure size 432x288 with 1 Axes>"
      ]
     },
     "metadata": {
      "needs_background": "light"
     },
     "output_type": "display_data"
    },
    {
     "name": "stdout",
     "output_type": "stream",
     "text": [
      "Overall accuracy: 0.7933333333333333\n",
      "disparate impact:  96.83544303797468\n",
      "disparate misclassification rate:  65.15837104072399\n",
      "disparate false positive rate: 77.81954887218045\n",
      "disparate false negative rate: 75.2895752895753\n",
      "equalized opportunity for -1 : 77.81954887218045\n",
      "equalized opportunity for 1 : 96.8395061728395\n",
      "====================\n",
      "poisoned ratio:  0.3\n",
      "====================\n"
     ]
    },
    {
     "data": {
      "image/png": "[encoded data removed]",
      "text/plain": [
       "<Figure size 432x288 with 1 Axes>"
      ]
     },
     "metadata": {
      "needs_background": "light"
     },
     "output_type": "display_data"
    },
    {
     "name": "stdout",
     "output_type": "stream",
     "text": [
      "Overall accuracy: 0.7933333333333333\n",
      "disparate impact:  99.37733499377336\n",
      "disparate misclassification rate:  70.30075187969925\n",
      "disparate false positive rate: 76.92307692307692\n",
      "disparate false negative rate: 94.20289855072464\n",
      "equalized opportunity for -1 : 76.92307692307692\n",
      "equalized opportunity for 1 : 99.36\n"
     ]
    }
   ],
   "source": [
    "print(len(xs_te))\n",
    "for rt in [0.0,0.1,0.2,0.3]:\n",
    "    print(\"=\"*20)\n",
    "    print(\"poisoned ratio: \", rt)\n",
    "    print(\"=\"*20)\n",
    "    xs_tep =  poison_Z(xs_te,pos_rt =rt, rs = 3)\n",
    "    plt.figure()\n",
    "    plt.title('sensitive variable poisoned with '+str(rt))\n",
    "    plt.hist(xs_tep.flatten())\n",
    "    plt.show()\n",
    "\n",
    "    test_LR(clf,X_te,y_te,xs_tep)"
   ]
  },
  {
   "cell_type": "code",
   "execution_count": null,
   "metadata": {},
   "outputs": [],
   "source": []
  },
  {
   "cell_type": "code",
   "execution_count": null,
   "metadata": {},
   "outputs": [],
   "source": []
  },
  {
   "cell_type": "code",
   "execution_count": null,
   "metadata": {},
   "outputs": [],
   "source": []
  },
  {
   "cell_type": "code",
   "execution_count": null,
   "metadata": {},
   "outputs": [],
   "source": []
  },
  {
   "cell_type": "code",
   "execution_count": 4,
   "metadata": {},
   "outputs": [],
   "source": [
    "bank = pd.read_csv('../data/bank-full.csv')"
   ]
  },
  {
   "cell_type": "code",
   "execution_count": 5,
   "metadata": {},
   "outputs": [
    {
     "name": "stdout",
     "output_type": "stream",
     "text": [
      "       age           job   marital  education default  balance housing loan  \\\n",
      "0       58    management   married   tertiary      no     2143     yes   no   \n",
      "1       44    technician    single  secondary      no       29     yes   no   \n",
      "2       33  entrepreneur   married  secondary      no        2     yes  yes   \n",
      "3       47   blue-collar   married    unknown      no     1506     yes   no   \n",
      "4       33       unknown    single    unknown      no        1      no   no   \n",
      "...    ...           ...       ...        ...     ...      ...     ...  ...   \n",
      "45206   51    technician   married   tertiary      no      825      no   no   \n",
      "45207   71       retired  divorced    primary      no     1729      no   no   \n",
      "45208   72       retired   married  secondary      no     5715      no   no   \n",
      "45209   57   blue-collar   married  secondary      no      668      no   no   \n",
      "45210   37  entrepreneur   married  secondary      no     2971      no   no   \n",
      "\n",
      "         contact  day month  duration  campaign  pdays  previous poutcome    y  \n",
      "0        unknown    5   may       261         1     -1         0  unknown   no  \n",
      "1        unknown    5   may       151         1     -1         0  unknown   no  \n",
      "2        unknown    5   may        76         1     -1         0  unknown   no  \n",
      "3        unknown    5   may        92         1     -1         0  unknown   no  \n",
      "4        unknown    5   may       198         1     -1         0  unknown   no  \n",
      "...          ...  ...   ...       ...       ...    ...       ...      ...  ...  \n",
      "45206   cellular   17   nov       977         3     -1         0  unknown  yes  \n",
      "45207   cellular   17   nov       456         2     -1         0  unknown  yes  \n",
      "45208   cellular   17   nov      1127         5    184         3  success  yes  \n",
      "45209  telephone   17   nov       508         4     -1         0  unknown   no  \n",
      "45210   cellular   17   nov       361         2    188        11    other   no  \n",
      "\n",
      "[45211 rows x 17 columns]\n"
     ]
    }
   ],
   "source": [
    "print(bank)"
   ]
  },
  {
   "cell_type": "code",
   "execution_count": null,
   "metadata": {},
   "outputs": [],
   "source": []
  }
 ],
 "metadata": {
  "kernelspec": {
   "display_name": "pytorch15",
   "language": "python",
   "name": "pytorch15"
  },
  "language_info": {
   "codemirror_mode": {
    "name": "ipython",
    "version": 3
   },
   "file_extension": ".py",
   "mimetype": "text/x-python",
   "name": "python",
   "nbconvert_exporter": "python",
   "pygments_lexer": "ipython3",
   "version": "3.8.3"
  }
 },
 "nbformat": 4,
 "nbformat_minor": 4
}
