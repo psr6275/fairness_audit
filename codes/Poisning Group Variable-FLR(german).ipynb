{
 "cells": [
  {
   "cell_type": "code",
   "execution_count": 1,
   "metadata": {},
   "outputs": [],
   "source": [
    "import numpy as np\n",
    "import torch\n",
    "import random\n",
    "import copy\n",
    "import matplotlib.pyplot as plt"
   ]
  },
  {
   "cell_type": "code",
   "execution_count": 2,
   "metadata": {},
   "outputs": [],
   "source": [
    "from load_data import *"
   ]
  },
  {
   "cell_type": "code",
   "execution_count": 3,
   "metadata": {},
   "outputs": [],
   "source": [
    "X_tr, X_te, y_tr, y_te, xs_tr, xs_te = load_german_data(svm=True,random_state=42,intercept=True)"
   ]
  },
  {
   "cell_type": "code",
   "execution_count": 4,
   "metadata": {},
   "outputs": [
    {
     "name": "stdout",
     "output_type": "stream",
     "text": [
      "69.33333333333334\n"
     ]
    }
   ],
   "source": [
    "print(sum(y_te==1)/len(y_te)*100)"
   ]
  },
  {
   "cell_type": "code",
   "execution_count": 5,
   "metadata": {},
   "outputs": [],
   "source": [
    "def shuffle_array(arr_list, sample_ratio = 0.9, rs = 3):\n",
    "    n_sam = int(len(arr_list[0])*sample_ratio)\n",
    "    random.seed(rs)\n",
    "    r_idxs = list(range(len(arr_list[0])))\n",
    "    random.shuffle(r_idxs)\n",
    "    arr_t = []\n",
    "    for arr in arr_list:\n",
    "        arr_t.append(copy.deepcopy(arr)[r_idxs][:n_sam])\n",
    "    return tuple(arr_t)"
   ]
  },
  {
   "cell_type": "code",
   "execution_count": 6,
   "metadata": {},
   "outputs": [],
   "source": [
    "xx,yy,zz = shuffle_array([X_tr,y_tr,xs_tr])"
   ]
  },
  {
   "cell_type": "code",
   "execution_count": 7,
   "metadata": {},
   "outputs": [
    {
     "name": "stdout",
     "output_type": "stream",
     "text": [
      "(630, 24) (700, 24)\n"
     ]
    }
   ],
   "source": [
    "print(xx.shape, X_tr.shape)"
   ]
  },
  {
   "cell_type": "code",
   "execution_count": 8,
   "metadata": {},
   "outputs": [],
   "source": [
    "def poison_Z(xs,pos_rt = 0.1, rs = 3):\n",
    "    n_pos = int(len(xs)*pos_rt)\n",
    "    random.seed(rs)\n",
    "    r_idxs = list(range(len(xs)))\n",
    "    random.shuffle(r_idxs)\n",
    "    xsp = copy.deepcopy(xs)\n",
    "    xsp[r_idxs[:n_pos]] = 1-xs_tr[r_idxs[:n_pos]]\n",
    "    return xsp"
   ]
  },
  {
   "cell_type": "code",
   "execution_count": 9,
   "metadata": {},
   "outputs": [],
   "source": [
    "from fairLR_train import *"
   ]
  },
  {
   "cell_type": "code",
   "execution_count": 10,
   "metadata": {},
   "outputs": [],
   "source": [
    "xs_tep =  poison_Z(xs_te,pos_rt = 0.1, rs = 3)"
   ]
  },
  {
   "cell_type": "code",
   "execution_count": 11,
   "metadata": {},
   "outputs": [
    {
     "name": "stdout",
     "output_type": "stream",
     "text": [
      "load data: german\n",
      "train FLR model\n",
      "None\n",
      "save model\n",
      "saved in  ../results/german_FLR_model.sm\n",
      "save testdata\n",
      "saved in  ../results/german_testset.te\n",
      "saved in  ../results/german_testX.te\n"
     ]
    }
   ],
   "source": [
    "train_flr(data = 'german',save_dir = '../results', filename = 'german_FLR_model')"
   ]
  },
  {
   "cell_type": "code",
   "execution_count": 12,
   "metadata": {},
   "outputs": [],
   "source": [
    "from fairLR_test import *\n",
    "from save_utils import load_flr, load_nparray,save_prediction"
   ]
  },
  {
   "cell_type": "code",
   "execution_count": 13,
   "metadata": {},
   "outputs": [],
   "source": [
    "from fair_eval import *"
   ]
  },
  {
   "cell_type": "code",
   "execution_count": 14,
   "metadata": {},
   "outputs": [],
   "source": [
    "coef = load_flr( '../results/german_FLR_model.sm')\n",
    "pred = predict_FairLR(X_te,coef)"
   ]
  },
  {
   "cell_type": "code",
   "execution_count": 15,
   "metadata": {},
   "outputs": [],
   "source": [
    "def test_FLR(X_te, y_te,xs_te,load_path = '../results/german_FLR_model.sm'):\n",
    "    coef = load_flr(load_path)\n",
    "    pred = predict_FairLR(X_te,coef)\n",
    "    calculate_overall_accuracy(pred,y_te)\n",
    "    calculate_prule_clf(pred,y_te,xs_te)\n",
    "    calculate_odds_clf(pred,y_te,xs_te)"
   ]
  },
  {
   "cell_type": "code",
   "execution_count": 16,
   "metadata": {},
   "outputs": [],
   "source": [
    "def test_FLR_avg_diff(X_te, y_te,xs_te,load_path = '../results/german_FLR_model.sm'):\n",
    "    coef = load_flr(load_path)\n",
    "    pred = predict_FairLR(X_te,coef)\n",
    "    pred = pred.flatten()\n",
    "    y_te = y_te.flatten()\n",
    "    xs_te = xs_te.flatten()\n",
    "    res = {}\n",
    "    res['accuary'] = calculate_overall_accuracy(pred,y_te,True)\n",
    "    res['dispImp'] = diff_calculate_impact(pred,y_te,xs_te)\n",
    "    res['dsipMisclf'] = diff_calculate_misclassification(pred,y_te,xs_te)\n",
    "    res['dispFPR'] = diff_calculate_mistreatment(pred,y_te,xs_te,cond=-1)\n",
    "    res['dispFNR'] = diff_calculate_mistreatment(pred,y_te,xs_te,cond=1)\n",
    "    res['odds'] = diff_calculate_odds_clf(pred,y_te,xs_te,return_val = True)\n",
    "    return res"
   ]
  },
  {
   "cell_type": "code",
   "execution_count": 17,
   "metadata": {},
   "outputs": [],
   "source": [
    "def test_FLR_avg(X_te, y_te,xs_te,load_path = '../results/german_FLR_model.sm'):\n",
    "    coef = load_flr(load_path)\n",
    "    pred = predict_FairLR(X_te,coef)\n",
    "    pred = pred.flatten()\n",
    "    y_te = y_te.flatten()\n",
    "    xs_te = xs_te.flatten()\n",
    "    res = {}\n",
    "    res['accuary'] = calculate_overall_accuracy(pred,y_te,True)\n",
    "    res['dispImp'] = calculate_impact(pred,y_te,xs_te)\n",
    "    res['dsipMisclf'] = calculate_misclassification(pred,y_te,xs_te)\n",
    "    res['dispFPR'] = calculate_mistreatment(pred,y_te,xs_te,cond=-1)\n",
    "    res['dispFNR'] = calculate_mistreatment(pred,y_te,xs_te,cond=1)\n",
    "    res['odds'] = calculate_odds_clf(pred,y_te,xs_te,return_val = True)\n",
    "    return res"
   ]
  },
  {
   "cell_type": "code",
   "execution_count": 18,
   "metadata": {},
   "outputs": [],
   "source": [
    "def add_res(res,res_sum):\n",
    "    for ikey in res:\n",
    "        if ikey == 'odds':\n",
    "            for jkey in res[ikey]:\n",
    "                res_sum[ikey][jkey] +=  res[ikey][jkey]\n",
    "        else:\n",
    "            res_sum[ikey] += res[ikey]\n",
    "    return res_sum\n",
    "def divide_res(res_sum, rep = 5):\n",
    "    for ikey in res_sum:\n",
    "        if ikey =='odds':\n",
    "            for jkey in res_sum[ikey]:\n",
    "                    res_sum[ikey][jkey] /=  rep\n",
    "        else:\n",
    "            res_sum[ikey] /= rep\n",
    "    return res_sum\n",
    "def print_res(res):\n",
    "    for ikey in res:\n",
    "        print(ikey,\": \",res[ikey])"
   ]
  },
  {
   "cell_type": "code",
   "execution_count": 19,
   "metadata": {},
   "outputs": [
    {
     "name": "stdout",
     "output_type": "stream",
     "text": [
      "300\n",
      "====================\n",
      "poisoned ratio:  0.0\n",
      "====================\n"
     ]
    },
    {
     "data": {
      "image/png": "[encoded data removed]",
      "text/plain": [
       "<Figure size 432x288 with 1 Axes>"
      ]
     },
     "metadata": {
      "needs_background": "light"
     },
     "output_type": "display_data"
    },
    {
     "name": "stdout",
     "output_type": "stream",
     "text": [
      "accuary :  78.0\n",
      "dispImp :  5.833333333333335\n",
      "dsipMisclf :  14.16666666666666\n",
      "dispFPR :  25.29137529137529\n",
      "dispFNR :  3.8877620013522654\n",
      "odds :  {-1: 25.29137529137529, 1: 3.887762001352269}\n",
      "====================\n",
      "poisoned ratio:  0.01\n",
      "====================\n"
     ]
    },
    {
     "data": {
      "image/png": "[encoded data removed]",
      "text/plain": [
       "<Figure size 432x288 with 1 Axes>"
      ]
     },
     "metadata": {
      "needs_background": "light"
     },
     "output_type": "display_data"
    },
    {
     "name": "stdout",
     "output_type": "stream",
     "text": [
      "accuary :  78.0\n",
      "dispImp :  5.062533045581542\n",
      "dsipMisclf :  13.855858654076396\n",
      "dispFPR :  24.189002926316356\n",
      "dispFNR :  3.159973872690581\n",
      "odds :  {-1: 24.189002926316356, 1: 3.1599738726905793}\n",
      "====================\n",
      "poisoned ratio:  0.05\n",
      "====================\n"
     ]
    },
    {
     "data": {
      "image/png": "[encoded data removed]",
      "text/plain": [
       "<Figure size 432x288 with 1 Axes>"
      ]
     },
     "metadata": {
      "needs_background": "light"
     },
     "output_type": "display_data"
    },
    {
     "name": "stdout",
     "output_type": "stream",
     "text": [
      "accuary :  78.0\n",
      "dispImp :  4.47899002683273\n",
      "dsipMisclf :  12.364849279016525\n",
      "dispFPR :  22.360490682688955\n",
      "dispFNR :  3.1208057731761345\n",
      "odds :  {-1: 22.360490682688955, 1: 3.1208057731761327}\n",
      "====================\n",
      "poisoned ratio:  0.1\n",
      "====================\n"
     ]
    },
    {
     "data": {
      "image/png": "[encoded data removed]",
      "text/plain": [
       "<Figure size 432x288 with 1 Axes>"
      ]
     },
     "metadata": {
      "needs_background": "light"
     },
     "output_type": "display_data"
    },
    {
     "name": "stdout",
     "output_type": "stream",
     "text": [
      "accuary :  78.0\n",
      "dispImp :  4.137234524575421\n",
      "dsipMisclf :  10.237804245805346\n",
      "dispFPR :  19.735609784329288\n",
      "dispFNR :  2.7398518747598013\n",
      "odds :  {-1: 19.735609784329288, 1: 2.7398518747598013}\n",
      "====================\n",
      "poisoned ratio:  0.2\n",
      "====================\n"
     ]
    },
    {
     "data": {
      "image/png": "[encoded data removed]",
      "text/plain": [
       "<Figure size 432x288 with 1 Axes>"
      ]
     },
     "metadata": {
      "needs_background": "light"
     },
     "output_type": "display_data"
    },
    {
     "name": "stdout",
     "output_type": "stream",
     "text": [
      "accuary :  78.0\n",
      "dispImp :  3.536814154551897\n",
      "dsipMisclf :  6.865181500685997\n",
      "dispFPR :  15.169262243049939\n",
      "dispFNR :  3.0568864582803843\n",
      "odds :  {-1: 15.169262243049939, 1: 3.0568864582803856}\n",
      "====================\n",
      "poisoned ratio:  0.3\n",
      "====================\n"
     ]
    },
    {
     "data": {
      "image/png": "[encoded data removed]",
      "text/plain": [
       "<Figure size 432x288 with 1 Axes>"
      ]
     },
     "metadata": {
      "needs_background": "light"
     },
     "output_type": "display_data"
    },
    {
     "name": "stdout",
     "output_type": "stream",
     "text": [
      "accuary :  78.0\n",
      "dispImp :  4.55385444902967\n",
      "dsipMisclf :  5.424263307580324\n",
      "dispFPR :  14.21577180391445\n",
      "dispFNR :  2.3852540205845196\n",
      "odds :  {-1: 14.21577180391445, 1: 2.3852540205845174}\n"
     ]
    }
   ],
   "source": [
    "\n",
    "print(len(xs_te))\n",
    "rep = 10\n",
    "for rt in [0.0,0.01,0.05,0.1,0.2,0.3]:\n",
    "    print(\"=\"*20)\n",
    "    print(\"poisoned ratio: \", rt)\n",
    "    print(\"=\"*20)\n",
    "    for j in range(rep):\n",
    "        xs_tep =  poison_Z(xs_te,pos_rt =rt, rs = 4*j+1)\n",
    "        res = test_FLR_avg_diff(X_te, y_te,xs_tep,load_path = '../results/german_FLR_model.sm')\n",
    "        if j==0:\n",
    "            res_sum = res\n",
    "        else:\n",
    "            res_sum = add_res(res, res_sum)\n",
    "    res_sum = divide_res(res_sum,rep)\n",
    "    plt.figure()\n",
    "    plt.title('sensitive variable poisoned with '+str(rt))\n",
    "    plt.hist(xs_tep.flatten())\n",
    "    plt.show()\n",
    "    print_res(res_sum)\n",
    "#     test_FLR(X_te,y_te,xs_tep,load_path = '../results/german_FLR_model.sm')"
   ]
  },
  {
   "cell_type": "code",
   "execution_count": 20,
   "metadata": {},
   "outputs": [
    {
     "name": "stdout",
     "output_type": "stream",
     "text": [
      "300\n",
      "====================\n",
      "poisoned ratio:  0.0\n",
      "====================\n"
     ]
    },
    {
     "data": {
      "image/png": "[encoded data removed]",
      "text/plain": [
       "<Figure size 432x288 with 1 Axes>"
      ]
     },
     "metadata": {
      "needs_background": "light"
     },
     "output_type": "display_data"
    },
    {
     "name": "stdout",
     "output_type": "stream",
     "text": [
      "accuary :  78.0\n",
      "dispImp :  93.0\n",
      "dsipMisclf :  57.500000000000014\n",
      "dispFPR :  63.468013468013474\n",
      "dispFNR :  60.207612456747405\n",
      "odds :  {-1: 63.468013468013474, 1: 95.86925287356323}\n",
      "====================\n",
      "poisoned ratio:  0.01\n",
      "====================\n"
     ]
    },
    {
     "data": {
      "image/png": "[encoded data removed]",
      "text/plain": [
       "<Figure size 432x288 with 1 Axes>"
      ]
     },
     "metadata": {
      "needs_background": "light"
     },
     "output_type": "display_data"
    },
    {
     "name": "stdout",
     "output_type": "stream",
     "text": [
      "accuary :  78.0\n",
      "dispImp :  93.89513680884946\n",
      "dsipMisclf :  58.10632714055855\n",
      "dispFPR :  64.63727323100734\n",
      "dispFNR :  67.71904349975284\n",
      "odds :  {-1: 64.63727323100734, 1: 96.64123750534921}\n",
      "====================\n",
      "poisoned ratio:  0.05\n",
      "====================\n"
     ]
    },
    {
     "data": {
      "image/png": "[encoded data removed]",
      "text/plain": [
       "<Figure size 432x288 with 1 Axes>"
      ]
     },
     "metadata": {
      "needs_background": "light"
     },
     "output_type": "display_data"
    },
    {
     "name": "stdout",
     "output_type": "stream",
     "text": [
      "accuary :  78.0\n",
      "dispImp :  94.57717884126964\n",
      "dsipMisclf :  61.36647107065323\n",
      "dispFPR :  66.62297659928285\n",
      "dispFNR :  69.16434474546773\n",
      "odds :  {-1: 66.62297659928285, 1: 96.71196850570932}\n",
      "====================\n",
      "poisoned ratio:  0.1\n",
      "====================\n"
     ]
    },
    {
     "data": {
      "image/png": "[encoded data removed]",
      "text/plain": [
       "<Figure size 432x288 with 1 Axes>"
      ]
     },
     "metadata": {
      "needs_background": "light"
     },
     "output_type": "display_data"
    },
    {
     "name": "stdout",
     "output_type": "stream",
     "text": [
      "accuary :  78.0\n",
      "dispImp :  95.01935353133686\n",
      "dsipMisclf :  66.22450593987173\n",
      "dispFPR :  69.80694122480982\n",
      "dispFNR :  73.16771046583985\n",
      "odds :  {-1: 69.80694122480982, 1: 97.0917534925545}\n",
      "====================\n",
      "poisoned ratio:  0.2\n",
      "====================\n"
     ]
    },
    {
     "data": {
      "image/png": "[encoded data removed]",
      "text/plain": [
       "<Figure size 432x288 with 1 Axes>"
      ]
     },
     "metadata": {
      "needs_background": "light"
     },
     "output_type": "display_data"
    },
    {
     "name": "stdout",
     "output_type": "stream",
     "text": [
      "accuary :  78.0\n",
      "dispImp :  95.67858030305015\n",
      "dsipMisclf :  75.20839105370274\n",
      "dispFPR :  75.14567108825756\n",
      "dispFNR :  70.31825094883592\n",
      "odds :  {-1: 75.14567108825756, 1: 96.73374046766666}\n",
      "====================\n",
      "poisoned ratio:  0.3\n",
      "====================\n"
     ]
    },
    {
     "data": {
      "image/png": "[encoded data removed]",
      "text/plain": [
       "<Figure size 432x288 with 1 Axes>"
      ]
     },
     "metadata": {
      "needs_background": "light"
     },
     "output_type": "display_data"
    },
    {
     "name": "stdout",
     "output_type": "stream",
     "text": [
      "accuary :  78.0\n",
      "dispImp :  94.44875506169774\n",
      "dsipMisclf :  79.3617601451753\n",
      "dispFPR :  76.76316998212256\n",
      "dispFNR :  77.48537991660197\n",
      "odds :  {-1: 76.76316998212256, 1: 97.44660449673367}\n"
     ]
    }
   ],
   "source": [
    "print(len(xs_te))\n",
    "rep = 10\n",
    "for rt in [0.0,0.01,0.05,0.1,0.2,0.3]:\n",
    "    print(\"=\"*20)\n",
    "    print(\"poisoned ratio: \", rt)\n",
    "    print(\"=\"*20)\n",
    "    for j in range(rep):\n",
    "        xs_tep =  poison_Z(xs_te,pos_rt =rt, rs = 4*j+1)\n",
    "        res = test_FLR_avg(X_te, y_te,xs_tep,load_path = '../results/german_FLR_model.sm')\n",
    "        if j==0:\n",
    "            res_sum = res\n",
    "        else:\n",
    "            res_sum = add_res(res, res_sum)\n",
    "    res_sum = divide_res(res_sum,rep)\n",
    "    plt.figure()\n",
    "    plt.title('sensitive variable poisoned with '+str(rt))\n",
    "    plt.hist(xs_tep.flatten())\n",
    "    plt.show()\n",
    "    print_res(res_sum)\n",
    "#     test_FLR(X_te,y_te,xs_tep,load_path = '../results/german_FLR_model.sm')"
   ]
  },
  {
   "cell_type": "code",
   "execution_count": 21,
   "metadata": {},
   "outputs": [],
   "source": [
    "accuary :  0.7800000000000008\n",
    "dispImp :  95.85313706114012\n",
    "dsipMisclf :  81.05185286535512\n",
    "dispFPR :  84.47226480793788\n",
    "dispFNR :  69.86858984534416\n",
    "odds :  {-1: 84.47226480793788, 1: 96.4281597958115}"
   ]
  },
  {
   "cell_type": "code",
   "execution_count": 22,
   "metadata": {},
   "outputs": [
    {
     "name": "stdout",
     "output_type": "stream",
     "text": [
      "accuary :  78.0\n",
      "dispImp :  88.72002701789935\n",
      "dsipMisclf :  70.47619047619047\n",
      "dispFPR :  58.84502923976608\n",
      "dispFNR :  80.16194331983806\n",
      "odds :  {-1: 58.84502923976608, 1: 97.87878787878788}\n"
     ]
    }
   ],
   "source": [
    "print_res(res)"
   ]
  },
  {
   "cell_type": "markdown",
   "metadata": {},
   "source": [
    "# LR training and test"
   ]
  },
  {
   "cell_type": "code",
   "execution_count": 23,
   "metadata": {},
   "outputs": [],
   "source": [
    "from sklearn import linear_model as lm"
   ]
  },
  {
   "cell_type": "code",
   "execution_count": 24,
   "metadata": {},
   "outputs": [
    {
     "data": {
      "text/plain": [
       "LogisticRegression()"
      ]
     },
     "execution_count": 24,
     "metadata": {},
     "output_type": "execute_result"
    }
   ],
   "source": [
    "clf2 = lm.LogisticRegression()\n",
    "clf2.fit(X_tr,y_tr)"
   ]
  },
  {
   "cell_type": "code",
   "execution_count": 25,
   "metadata": {},
   "outputs": [],
   "source": [
    "def test_LR_avg(clf,X_te, y_te,xs_te):\n",
    "    pred = clf.predict(X_te)\n",
    "    pred = pred.flatten()\n",
    "    y_te = y_te.flatten()\n",
    "    xs_te = xs_te.flatten()\n",
    "    res = {}\n",
    "    res['accuary'] = calculate_overall_accuracy(pred,y_te,True)\n",
    "    res['dispImp'] = calculate_impact(pred,y_te,xs_te)\n",
    "    res['dsipMisclf'] = calculate_misclassification(pred,y_te,xs_te)\n",
    "    res['dispFPR'] = calculate_mistreatment(pred,y_te,xs_te,cond=-1)\n",
    "    res['dispFNR'] = calculate_mistreatment(pred,y_te,xs_te,cond=1)\n",
    "    res['odds'] = calculate_odds_clf(pred,y_te,xs_te,return_val = True)\n",
    "    return res"
   ]
  },
  {
   "cell_type": "code",
   "execution_count": 26,
   "metadata": {},
   "outputs": [],
   "source": [
    "def test_LR(clf,X_te, y_te,xs_te):\n",
    "    pred = clf.predict(X_te)\n",
    "    calculate_overall_accuracy(pred,y_te)\n",
    "    calculate_prule_clf(pred,y_te,xs_te)\n",
    "    calculate_odds_clf(pred,y_te,xs_te)"
   ]
  },
  {
   "cell_type": "code",
   "execution_count": 27,
   "metadata": {},
   "outputs": [
    {
     "name": "stdout",
     "output_type": "stream",
     "text": [
      "300\n",
      "====================\n",
      "poisoned ratio:  0.0\n",
      "====================\n"
     ]
    },
    {
     "data": {
      "image/png": "[encoded data removed]",
      "text/plain": [
       "<Figure size 432x288 with 1 Axes>"
      ]
     },
     "metadata": {
      "needs_background": "light"
     },
     "output_type": "display_data"
    },
    {
     "name": "stdout",
     "output_type": "stream",
     "text": [
      "accuary :  79.33333333333334\n",
      "dispImp :  100.0\n",
      "dsipMisclf :  61.1111111111111\n",
      "dispFPR :  70.9090909090909\n",
      "dispFNR :  90.3114186851211\n",
      "odds :  {-1: 70.9090909090909, 1: 98.96180941787169}\n",
      "====================\n",
      "poisoned ratio:  0.01\n",
      "====================\n"
     ]
    },
    {
     "data": {
      "image/png": "[encoded data removed]",
      "text/plain": [
       "<Figure size 432x288 with 1 Axes>"
      ]
     },
     "metadata": {
      "needs_background": "light"
     },
     "output_type": "display_data"
    },
    {
     "name": "stdout",
     "output_type": "stream",
     "text": [
      "accuary :  79.33333333333334\n",
      "dispImp :  98.68673013880905\n",
      "dsipMisclf :  61.092829588747065\n",
      "dispFPR :  70.97266171328673\n",
      "dispFNR :  84.42362007933578\n",
      "odds :  {-1: 70.97266171328673, 1: 98.15732955049056}\n",
      "====================\n",
      "poisoned ratio:  0.05\n",
      "====================\n"
     ]
    },
    {
     "data": {
      "image/png": "[encoded data removed]",
      "text/plain": [
       "<Figure size 432x288 with 1 Axes>"
      ]
     },
     "metadata": {
      "needs_background": "light"
     },
     "output_type": "display_data"
    },
    {
     "name": "stdout",
     "output_type": "stream",
     "text": [
      "accuary :  79.33333333333334\n",
      "dispImp :  97.14357061235046\n",
      "dsipMisclf :  63.32398679764884\n",
      "dispFPR :  73.52100908789713\n",
      "dispFNR :  81.43476593412815\n",
      "odds :  {-1: 73.52100908789713, 1: 97.8684850651337}\n",
      "====================\n",
      "poisoned ratio:  0.1\n",
      "====================\n"
     ]
    },
    {
     "data": {
      "image/png": "[encoded data removed]",
      "text/plain": [
       "<Figure size 432x288 with 1 Axes>"
      ]
     },
     "metadata": {
      "needs_background": "light"
     },
     "output_type": "display_data"
    },
    {
     "name": "stdout",
     "output_type": "stream",
     "text": [
      "accuary :  79.33333333333334\n",
      "dispImp :  96.88633378987711\n",
      "dsipMisclf :  65.61858220462713\n",
      "dispFPR :  76.4636283517336\n",
      "dispFNR :  78.93756089554356\n",
      "odds :  {-1: 76.4636283517336, 1: 97.40664592513954}\n",
      "====================\n",
      "poisoned ratio:  0.2\n",
      "====================\n"
     ]
    },
    {
     "data": {
      "image/png": "[encoded data removed]",
      "text/plain": [
       "<Figure size 432x288 with 1 Axes>"
      ]
     },
     "metadata": {
      "needs_background": "light"
     },
     "output_type": "display_data"
    },
    {
     "name": "stdout",
     "output_type": "stream",
     "text": [
      "accuary :  79.33333333333334\n",
      "dispImp :  96.0481916580798\n",
      "dsipMisclf :  72.82051083554128\n",
      "dispFPR :  77.39219914584172\n",
      "dispFNR :  75.69289009062722\n",
      "odds :  {-1: 77.39219914584172, 1: 97.08076716105518}\n",
      "====================\n",
      "poisoned ratio:  0.3\n",
      "====================\n"
     ]
    },
    {
     "data": {
      "image/png": "[encoded data removed]",
      "text/plain": [
       "<Figure size 432x288 with 1 Axes>"
      ]
     },
     "metadata": {
      "needs_background": "light"
     },
     "output_type": "display_data"
    },
    {
     "name": "stdout",
     "output_type": "stream",
     "text": [
      "accuary :  79.33333333333334\n",
      "dispImp :  95.46456927954924\n",
      "dsipMisclf :  80.53648545038456\n",
      "dispFPR :  83.48981563840402\n",
      "dispFNR :  77.9124408894175\n",
      "odds :  {-1: 83.48981563840402, 1: 97.3518974529618}\n"
     ]
    }
   ],
   "source": [
    "print(len(xs_te))\n",
    "rep = 10\n",
    "for rt in [0.0,0.01,0.05,0.1,0.2,0.3]:\n",
    "    print(\"=\"*20)\n",
    "    print(\"poisoned ratio: \", rt)\n",
    "    print(\"=\"*20)\n",
    "    for j in range(rep):\n",
    "        xs_tep =  poison_Z(xs_te,pos_rt =rt, rs = 3*j)\n",
    "        res = test_LR_avg(clf2,X_te, y_te,xs_tep)\n",
    "        if j==0:\n",
    "            res_sum = res\n",
    "        else:\n",
    "            res_sum = add_res(res, res_sum)\n",
    "    res_sum = divide_res(res_sum,rep)\n",
    "    plt.figure()\n",
    "    plt.title('sensitive variable poisoned with '+str(rt))\n",
    "    plt.hist(xs_tep.flatten())\n",
    "    plt.show()\n",
    "    print_res(res_sum)\n",
    "#     test_FLR(X_te,y_te,xs_tep,load_path = '../results/german_FLR_model.sm')"
   ]
  },
  {
   "cell_type": "code",
   "execution_count": 28,
   "metadata": {},
   "outputs": [
    {
     "name": "stdout",
     "output_type": "stream",
     "text": [
      "300\n",
      "====================\n",
      "poisoned ratio:  0.0\n",
      "====================\n"
     ]
    },
    {
     "data": {
      "image/png": "[encoded data removed]",
      "text/plain": [
       "<Figure size 432x288 with 1 Axes>"
      ]
     },
     "metadata": {
      "needs_background": "light"
     },
     "output_type": "display_data"
    },
    {
     "name": "stdout",
     "output_type": "stream",
     "text": [
      "Overall accuracy: 0.7933333333333333\n",
      "disparate impact:  100.0\n",
      "disparate misclassification rate:  61.11111111111111\n",
      "disparate false positive rate: 70.90909090909092\n",
      "disparate false negative rate: 90.3114186851211\n",
      "equalized opportunity for -1 : 70.90909090909092\n",
      "equalized opportunity for 1 : 98.9618094178717\n",
      "====================\n",
      "poisoned ratio:  0.01\n",
      "====================\n"
     ]
    },
    {
     "data": {
      "image/png": "[encoded data removed]",
      "text/plain": [
       "<Figure size 432x288 with 1 Axes>"
      ]
     },
     "metadata": {
      "needs_background": "light"
     },
     "output_type": "display_data"
    },
    {
     "name": "stdout",
     "output_type": "stream",
     "text": [
      "Overall accuracy: 0.7933333333333333\n",
      "disparate impact:  99.21507064364208\n",
      "disparate misclassification rate:  64.9789029535865\n",
      "disparate false positive rate: 74.76923076923076\n",
      "disparate false negative rate: 84.31372549019608\n",
      "equalized opportunity for -1 : 74.76923076923076\n",
      "equalized opportunity for 1 : 98.30866807610995\n",
      "====================\n",
      "poisoned ratio:  0.05\n",
      "====================\n"
     ]
    },
    {
     "data": {
      "image/png": "[encoded data removed]",
      "text/plain": [
       "<Figure size 432x288 with 1 Axes>"
      ]
     },
     "metadata": {
      "needs_background": "light"
     },
     "output_type": "display_data"
    },
    {
     "name": "stdout",
     "output_type": "stream",
     "text": [
      "Overall accuracy: 0.7933333333333333\n",
      "disparate impact:  98.9596670934699\n",
      "disparate misclassification rate:  60.53233520482429\n",
      "disparate false positive rate: 71.15749525616698\n",
      "disparate false negative rate: 98.20359281437126\n",
      "equalized opportunity for -1 : 71.15749525616698\n",
      "equalized opportunity for 1 : 99.80617024713293\n",
      "====================\n",
      "poisoned ratio:  0.1\n",
      "====================\n"
     ]
    },
    {
     "data": {
      "image/png": "[encoded data removed]",
      "text/plain": [
       "<Figure size 432x288 with 1 Axes>"
      ]
     },
     "metadata": {
      "needs_background": "light"
     },
     "output_type": "display_data"
    },
    {
     "name": "stdout",
     "output_type": "stream",
     "text": [
      "Overall accuracy: 0.7933333333333333\n",
      "disparate impact:  92.17092266042292\n",
      "disparate misclassification rate:  60.61381074168798\n",
      "disparate false positive rate: 82.25324027916251\n",
      "disparate false negative rate: 66.2551440329218\n",
      "equalized opportunity for -1 : 82.25324027916251\n",
      "equalized opportunity for 1 : 95.18213866039953\n",
      "====================\n",
      "poisoned ratio:  0.2\n",
      "====================\n"
     ]
    },
    {
     "data": {
      "image/png": "[encoded data removed]",
      "text/plain": [
       "<Figure size 432x288 with 1 Axes>"
      ]
     },
     "metadata": {
      "needs_background": "light"
     },
     "output_type": "display_data"
    },
    {
     "name": "stdout",
     "output_type": "stream",
     "text": [
      "Overall accuracy: 0.7933333333333333\n",
      "disparate impact:  96.83544303797468\n",
      "disparate misclassification rate:  65.15837104072399\n",
      "disparate false positive rate: 77.81954887218045\n",
      "disparate false negative rate: 75.2895752895753\n",
      "equalized opportunity for -1 : 77.81954887218045\n",
      "equalized opportunity for 1 : 96.8395061728395\n",
      "====================\n",
      "poisoned ratio:  0.3\n",
      "====================\n"
     ]
    },
    {
     "data": {
      "image/png": "[encoded data removed]",
      "text/plain": [
       "<Figure size 432x288 with 1 Axes>"
      ]
     },
     "metadata": {
      "needs_background": "light"
     },
     "output_type": "display_data"
    },
    {
     "name": "stdout",
     "output_type": "stream",
     "text": [
      "Overall accuracy: 0.7933333333333333\n",
      "disparate impact:  99.37733499377336\n",
      "disparate misclassification rate:  70.30075187969925\n",
      "disparate false positive rate: 76.92307692307692\n",
      "disparate false negative rate: 94.20289855072464\n",
      "equalized opportunity for -1 : 76.92307692307692\n",
      "equalized opportunity for 1 : 99.36\n"
     ]
    }
   ],
   "source": [
    "print(len(xs_te))\n",
    "for rt in [0.0,0.01,0.05,0.1,0.2,0.3]:\n",
    "    print(\"=\"*20)\n",
    "    print(\"poisoned ratio: \", rt)\n",
    "    print(\"=\"*20)\n",
    "    xs_tep =  poison_Z(xs_te,pos_rt =rt, rs = 3)\n",
    "    plt.figure()\n",
    "    plt.title('sensitive variable poisoned with '+str(rt))\n",
    "    plt.hist(xs_tep.flatten())\n",
    "    plt.show()\n",
    "\n",
    "    test_LR(clf2,X_te,y_te,xs_tep)"
   ]
  },
  {
   "cell_type": "code",
   "execution_count": null,
   "metadata": {},
   "outputs": [],
   "source": []
  },
  {
   "cell_type": "code",
   "execution_count": null,
   "metadata": {},
   "outputs": [],
   "source": []
  },
  {
   "cell_type": "code",
   "execution_count": null,
   "metadata": {},
   "outputs": [],
   "source": []
  },
  {
   "cell_type": "code",
   "execution_count": null,
   "metadata": {},
   "outputs": [],
   "source": []
  },
  {
   "cell_type": "code",
   "execution_count": 29,
   "metadata": {},
   "outputs": [],
   "source": [
    "bank = pd.read_csv('../data/bank-full.csv')"
   ]
  },
  {
   "cell_type": "code",
   "execution_count": 30,
   "metadata": {},
   "outputs": [
    {
     "name": "stdout",
     "output_type": "stream",
     "text": [
      "       age           job   marital  education default  balance housing loan  \\\n",
      "0       58    management   married   tertiary      no     2143     yes   no   \n",
      "1       44    technician    single  secondary      no       29     yes   no   \n",
      "2       33  entrepreneur   married  secondary      no        2     yes  yes   \n",
      "3       47   blue-collar   married    unknown      no     1506     yes   no   \n",
      "4       33       unknown    single    unknown      no        1      no   no   \n",
      "...    ...           ...       ...        ...     ...      ...     ...  ...   \n",
      "45206   51    technician   married   tertiary      no      825      no   no   \n",
      "45207   71       retired  divorced    primary      no     1729      no   no   \n",
      "45208   72       retired   married  secondary      no     5715      no   no   \n",
      "45209   57   blue-collar   married  secondary      no      668      no   no   \n",
      "45210   37  entrepreneur   married  secondary      no     2971      no   no   \n",
      "\n",
      "         contact  day month  duration  campaign  pdays  previous poutcome    y  \n",
      "0        unknown    5   may       261         1     -1         0  unknown   no  \n",
      "1        unknown    5   may       151         1     -1         0  unknown   no  \n",
      "2        unknown    5   may        76         1     -1         0  unknown   no  \n",
      "3        unknown    5   may        92         1     -1         0  unknown   no  \n",
      "4        unknown    5   may       198         1     -1         0  unknown   no  \n",
      "...          ...  ...   ...       ...       ...    ...       ...      ...  ...  \n",
      "45206   cellular   17   nov       977         3     -1         0  unknown  yes  \n",
      "45207   cellular   17   nov       456         2     -1         0  unknown  yes  \n",
      "45208   cellular   17   nov      1127         5    184         3  success  yes  \n",
      "45209  telephone   17   nov       508         4     -1         0  unknown   no  \n",
      "45210   cellular   17   nov       361         2    188        11    other   no  \n",
      "\n",
      "[45211 rows x 17 columns]\n"
     ]
    }
   ],
   "source": [
    "print(bank)"
   ]
  },
  {
   "cell_type": "code",
   "execution_count": null,
   "metadata": {},
   "outputs": [],
   "source": []
  }
 ],
 "metadata": {
  "kernelspec": {
   "display_name": "pytorch15",
   "language": "python",
   "name": "pytorch15"
  },
  "language_info": {
   "codemirror_mode": {
    "name": "ipython",
    "version": 3
   },
   "file_extension": ".py",
   "mimetype": "text/x-python",
   "name": "python",
   "nbconvert_exporter": "python",
   "pygments_lexer": "ipython3",
   "version": "3.8.3"
  }
 },
 "nbformat": 4,
 "nbformat_minor": 4
}
